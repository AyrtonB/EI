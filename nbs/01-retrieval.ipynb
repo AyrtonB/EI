{
 "cells": [
  {
   "cell_type": "code",
   "execution_count": 1,
   "metadata": {},
   "outputs": [],
   "source": [
    "# default_exp retrieval"
   ]
  },
  {
   "cell_type": "markdown",
   "metadata": {},
   "source": [
    "# Electric Insights API Wrapper\n",
    "\n",
    "This notebook walks through the usage of the electric insights API wrapper script which is contained within the same repository\n",
    "\n",
    "<br>\n",
    "\n",
    "### Imports"
   ]
  },
  {
   "cell_type": "code",
   "execution_count": 3,
   "metadata": {},
   "outputs": [],
   "source": [
    "#exports\n",
    "import pandas as pd\n",
    "import numpy as np\n",
    "\n",
    "import os\n",
    "import json\n",
    "import typer\n",
    "import requests\n",
    "import xmltodict\n",
    "from datetime import date\n",
    "from warnings import warn\n",
    "from tqdm import tqdm"
   ]
  },
  {
   "cell_type": "code",
   "execution_count": 4,
   "metadata": {},
   "outputs": [],
   "source": [
    "from IPython.display import JSON"
   ]
  },
  {
   "cell_type": "markdown",
   "metadata": {},
   "source": [
    "<br>\n",
    "\n",
    "We'll also specify the directory we wish to save any data to"
   ]
  },
  {
   "cell_type": "code",
   "execution_count": 5,
   "metadata": {},
   "outputs": [],
   "source": [
    "data_dir = '../data'"
   ]
  },
  {
   "cell_type": "markdown",
   "metadata": {},
   "source": [
    "<br>\n",
    "\n",
    "### Data Retrieval\n",
    "\n",
    "#### Single Stream\n",
    "\n",
    "We'll being by retrieving data for a single stream only, starting with just the raw JSON response"
   ]
  },
  {
   "cell_type": "code",
   "execution_count": 6,
   "metadata": {},
   "outputs": [],
   "source": [
    "#exports\n",
    "def query_API(start_date:str, end_date:str, stream:str, time_group='30m'):\n",
    "    \"\"\"\n",
    "    'Query API' makes the call to Electric Insights and returns the JSON response\n",
    "\n",
    "    Parameters:\n",
    "        start_date: Start date for data given as a string in the form '%Y-%m-%d'\n",
    "        end_date: End date for data given as a string in the form '%Y-%m-%d'\n",
    "        stream: One of 'prices_ahead', 'prices', 'temperatures', 'emissions', or 'generation-mix'\n",
    "        time_group: One of '30m', '1h', '1d' or '7d'. The default is '30m'\n",
    "    \"\"\"\n",
    "\n",
    "    # Checking stream is an EI endpoint\n",
    "    possible_streams = ['prices_ahead', 'prices', 'temperatures', 'emissions', 'generation-mix']\n",
    "    assert stream in possible_streams, f\"Stream must be one of {''.join([stream+', ' for stream in possible_streams])[:-2]}\"\n",
    "\n",
    "    # Checking time_group will be accepted by API\n",
    "    possible_time_groups = ['30m', '1h', '1d', '7d']\n",
    "    assert time_group in possible_time_groups, f\"Time group must be one of {''.join([time_group+', ' for time_group in possible_time_groups])[:-2]}\"\n",
    "\n",
    "    # Formatting dates\n",
    "    format_dt = lambda dt: date.strftime(dt, '%Y-%m-%d') if isinstance(dt, date) else dt\n",
    "    start_date = format_dt(start_date)\n",
    "    end_date = format_dt(end_date)\n",
    "\n",
    "    # Running query and parsing response\n",
    "    response = requests.get(f'http://drax-production.herokuapp.com/api/1/{stream}?date_from={start_date}&date_to={end_date}&group_by={time_group}')\n",
    "    r_json = response.json()\n",
    "\n",
    "    return r_json"
   ]
  },
  {
   "cell_type": "markdown",
   "metadata": {},
   "source": [
    "<br>\n",
    "\n",
    "We can convert this response to a dataframe, however this doesn't handle the nested columns well"
   ]
  },
  {
   "cell_type": "code",
   "execution_count": 7,
   "metadata": {},
   "outputs": [
    {
     "data": {
      "text/html": [
       "<div>\n",
       "<style scoped>\n",
       "    .dataframe tbody tr th:only-of-type {\n",
       "        vertical-align: middle;\n",
       "    }\n",
       "\n",
       "    .dataframe tbody tr th {\n",
       "        vertical-align: top;\n",
       "    }\n",
       "\n",
       "    .dataframe thead th {\n",
       "        text-align: right;\n",
       "    }\n",
       "</style>\n",
       "<table border=\"1\" class=\"dataframe\">\n",
       "  <thead>\n",
       "    <tr style=\"text-align: right;\">\n",
       "      <th></th>\n",
       "      <th>start</th>\n",
       "      <th>end</th>\n",
       "      <th>value</th>\n",
       "    </tr>\n",
       "  </thead>\n",
       "  <tbody>\n",
       "    <tr>\n",
       "      <th>0</th>\n",
       "      <td>2020-01-01T00:00:00Z</td>\n",
       "      <td>2020-01-01T00:30:00Z</td>\n",
       "      <td>{'totalInTperh': 4445.670000000001, 'totalInGp...</td>\n",
       "    </tr>\n",
       "    <tr>\n",
       "      <th>1</th>\n",
       "      <td>2020-01-01T00:30:00Z</td>\n",
       "      <td>2020-01-01T01:00:00Z</td>\n",
       "      <td>{'totalInTperh': 4668.45, 'totalInGperkWh': 16...</td>\n",
       "    </tr>\n",
       "    <tr>\n",
       "      <th>2</th>\n",
       "      <td>2020-01-01T01:00:00Z</td>\n",
       "      <td>2020-01-01T01:30:00Z</td>\n",
       "      <td>{'totalInTperh': 4562.072, 'totalInGperkWh': 1...</td>\n",
       "    </tr>\n",
       "    <tr>\n",
       "      <th>3</th>\n",
       "      <td>2020-01-01T01:30:00Z</td>\n",
       "      <td>2020-01-01T02:00:00Z</td>\n",
       "      <td>{'totalInTperh': 4342.128, 'totalInGperkWh': 1...</td>\n",
       "    </tr>\n",
       "    <tr>\n",
       "      <th>4</th>\n",
       "      <td>2020-01-01T02:00:00Z</td>\n",
       "      <td>2020-01-01T02:30:00Z</td>\n",
       "      <td>{'totalInTperh': 4123.677, 'totalInGperkWh': 1...</td>\n",
       "    </tr>\n",
       "  </tbody>\n",
       "</table>\n",
       "</div>"
      ],
      "text/plain": [
       "                  start                   end  \\\n",
       "0  2020-01-01T00:00:00Z  2020-01-01T00:30:00Z   \n",
       "1  2020-01-01T00:30:00Z  2020-01-01T01:00:00Z   \n",
       "2  2020-01-01T01:00:00Z  2020-01-01T01:30:00Z   \n",
       "3  2020-01-01T01:30:00Z  2020-01-01T02:00:00Z   \n",
       "4  2020-01-01T02:00:00Z  2020-01-01T02:30:00Z   \n",
       "\n",
       "                                               value  \n",
       "0  {'totalInTperh': 4445.670000000001, 'totalInGp...  \n",
       "1  {'totalInTperh': 4668.45, 'totalInGperkWh': 16...  \n",
       "2  {'totalInTperh': 4562.072, 'totalInGperkWh': 1...  \n",
       "3  {'totalInTperh': 4342.128, 'totalInGperkWh': 1...  \n",
       "4  {'totalInTperh': 4123.677, 'totalInGperkWh': 1...  "
      ]
     },
     "execution_count": 7,
     "metadata": {},
     "output_type": "execute_result"
    }
   ],
   "source": [
    "start_date = '2020-01-01'\n",
    "end_date = '2020-01-31'\n",
    "stream = 'emissions'\n",
    "time_group = '30m'\n",
    "\n",
    "r_json = query_API(start_date=start_date, end_date=end_date, stream=stream, time_group=time_group)\n",
    "df = pd.DataFrame.from_dict(r_json)\n",
    "\n",
    "df.head()"
   ]
  },
  {
   "cell_type": "markdown",
   "metadata": {},
   "source": [
    "<br>\n",
    "\n",
    "We can create a function that will take a specified column and extract the nested dataframe"
   ]
  },
  {
   "cell_type": "code",
   "execution_count": 8,
   "metadata": {},
   "outputs": [],
   "source": [
    "#exports\n",
    "def dict_col_to_cols(df:pd.DataFrame, value_col='value'):\n",
    "    \"\"\"Checks the `value_col`, if it contains dictionaries these are transformed into new columns which then replace it\"\"\"\n",
    "\n",
    "    ## Checks the value col is found in the dataframe\n",
    "    if value_col not in df.columns:\n",
    "        return df\n",
    "\n",
    "    if isinstance(df.loc[0, value_col], dict):\n",
    "        df_values = pd.DataFrame(df[value_col].to_dict()).T\n",
    "        df[df_values.columns] = df_values\n",
    "        df = df.drop(columns=[value_col])\n",
    "\n",
    "    return df"
   ]
  },
  {
   "cell_type": "code",
   "execution_count": 9,
   "metadata": {},
   "outputs": [
    {
     "data": {
      "text/html": [
       "<div>\n",
       "<style scoped>\n",
       "    .dataframe tbody tr th:only-of-type {\n",
       "        vertical-align: middle;\n",
       "    }\n",
       "\n",
       "    .dataframe tbody tr th {\n",
       "        vertical-align: top;\n",
       "    }\n",
       "\n",
       "    .dataframe thead th {\n",
       "        text-align: right;\n",
       "    }\n",
       "</style>\n",
       "<table border=\"1\" class=\"dataframe\">\n",
       "  <thead>\n",
       "    <tr style=\"text-align: right;\">\n",
       "      <th></th>\n",
       "      <th>start</th>\n",
       "      <th>end</th>\n",
       "      <th>totalInTperh</th>\n",
       "      <th>totalInGperkWh</th>\n",
       "    </tr>\n",
       "  </thead>\n",
       "  <tbody>\n",
       "    <tr>\n",
       "      <th>0</th>\n",
       "      <td>2020-01-01T00:00:00Z</td>\n",
       "      <td>2020-01-01T00:30:00Z</td>\n",
       "      <td>4445.670</td>\n",
       "      <td>162.398904</td>\n",
       "    </tr>\n",
       "    <tr>\n",
       "      <th>1</th>\n",
       "      <td>2020-01-01T00:30:00Z</td>\n",
       "      <td>2020-01-01T01:00:00Z</td>\n",
       "      <td>4668.450</td>\n",
       "      <td>167.502063</td>\n",
       "    </tr>\n",
       "    <tr>\n",
       "      <th>2</th>\n",
       "      <td>2020-01-01T01:00:00Z</td>\n",
       "      <td>2020-01-01T01:30:00Z</td>\n",
       "      <td>4562.072</td>\n",
       "      <td>166.268387</td>\n",
       "    </tr>\n",
       "  </tbody>\n",
       "</table>\n",
       "</div>"
      ],
      "text/plain": [
       "                  start                   end  totalInTperh  totalInGperkWh\n",
       "0  2020-01-01T00:00:00Z  2020-01-01T00:30:00Z      4445.670      162.398904\n",
       "1  2020-01-01T00:30:00Z  2020-01-01T01:00:00Z      4668.450      167.502063\n",
       "2  2020-01-01T01:00:00Z  2020-01-01T01:30:00Z      4562.072      166.268387"
      ]
     },
     "execution_count": 9,
     "metadata": {},
     "output_type": "execute_result"
    }
   ],
   "source": [
    "df = dict_col_to_cols(df)\n",
    "\n",
    "df.head(3)"
   ]
  },
  {
   "cell_type": "markdown",
   "metadata": {},
   "source": [
    "<br>\n",
    "\n",
    "Unfortunately however this doesn't handle repeated nesting of dictionaries, we'll create a wrapper that does"
   ]
  },
  {
   "cell_type": "code",
   "execution_count": 10,
   "metadata": {},
   "outputs": [],
   "source": [
    "#exports\n",
    "def clean_nested_dict_cols(df):\n",
    "    \"\"\"Unpacks columns contining nested dictionaries\"\"\"\n",
    "    # Calculating columns that are still dictionaries\n",
    "    s_types = df.iloc[0].apply(lambda val: type(val))\n",
    "    cols_with_dicts = s_types[s_types == dict].index\n",
    "\n",
    "    while len(cols_with_dicts) > 0:\n",
    "        for col_with_dicts in cols_with_dicts:\n",
    "            # Extracting dataframes from dictionary columns\n",
    "            df = dict_col_to_cols(df, col_with_dicts)\n",
    "\n",
    "            # Recalculating columns that are still dictionaries\n",
    "            s_types = df.iloc[0].apply(lambda val: type(val))\n",
    "            cols_with_dicts = s_types[s_types == dict].index\n",
    "            \n",
    "    return df"
   ]
  },
  {
   "cell_type": "code",
   "execution_count": 11,
   "metadata": {},
   "outputs": [
    {
     "data": {
      "text/html": [
       "<div>\n",
       "<style scoped>\n",
       "    .dataframe tbody tr th:only-of-type {\n",
       "        vertical-align: middle;\n",
       "    }\n",
       "\n",
       "    .dataframe tbody tr th {\n",
       "        vertical-align: top;\n",
       "    }\n",
       "\n",
       "    .dataframe thead th {\n",
       "        text-align: right;\n",
       "    }\n",
       "</style>\n",
       "<table border=\"1\" class=\"dataframe\">\n",
       "  <thead>\n",
       "    <tr style=\"text-align: right;\">\n",
       "      <th></th>\n",
       "      <th>start</th>\n",
       "      <th>end</th>\n",
       "      <th>totalInTperh</th>\n",
       "      <th>totalInGperkWh</th>\n",
       "    </tr>\n",
       "  </thead>\n",
       "  <tbody>\n",
       "    <tr>\n",
       "      <th>0</th>\n",
       "      <td>2020-01-01T00:00:00Z</td>\n",
       "      <td>2020-01-01T00:30:00Z</td>\n",
       "      <td>4445.670</td>\n",
       "      <td>162.398904</td>\n",
       "    </tr>\n",
       "    <tr>\n",
       "      <th>1</th>\n",
       "      <td>2020-01-01T00:30:00Z</td>\n",
       "      <td>2020-01-01T01:00:00Z</td>\n",
       "      <td>4668.450</td>\n",
       "      <td>167.502063</td>\n",
       "    </tr>\n",
       "    <tr>\n",
       "      <th>2</th>\n",
       "      <td>2020-01-01T01:00:00Z</td>\n",
       "      <td>2020-01-01T01:30:00Z</td>\n",
       "      <td>4562.072</td>\n",
       "      <td>166.268387</td>\n",
       "    </tr>\n",
       "    <tr>\n",
       "      <th>3</th>\n",
       "      <td>2020-01-01T01:30:00Z</td>\n",
       "      <td>2020-01-01T02:00:00Z</td>\n",
       "      <td>4342.128</td>\n",
       "      <td>163.385260</td>\n",
       "    </tr>\n",
       "    <tr>\n",
       "      <th>4</th>\n",
       "      <td>2020-01-01T02:00:00Z</td>\n",
       "      <td>2020-01-01T02:30:00Z</td>\n",
       "      <td>4123.677</td>\n",
       "      <td>159.122875</td>\n",
       "    </tr>\n",
       "  </tbody>\n",
       "</table>\n",
       "</div>"
      ],
      "text/plain": [
       "                  start                   end  totalInTperh  totalInGperkWh\n",
       "0  2020-01-01T00:00:00Z  2020-01-01T00:30:00Z      4445.670      162.398904\n",
       "1  2020-01-01T00:30:00Z  2020-01-01T01:00:00Z      4668.450      167.502063\n",
       "2  2020-01-01T01:00:00Z  2020-01-01T01:30:00Z      4562.072      166.268387\n",
       "3  2020-01-01T01:30:00Z  2020-01-01T02:00:00Z      4342.128      163.385260\n",
       "4  2020-01-01T02:00:00Z  2020-01-01T02:30:00Z      4123.677      159.122875"
      ]
     },
     "execution_count": 11,
     "metadata": {},
     "output_type": "execute_result"
    }
   ],
   "source": [
    "df = clean_nested_dict_cols(df)\n",
    "\n",
    "df.head()"
   ]
  },
  {
   "cell_type": "markdown",
   "metadata": {},
   "source": [
    "<br>\n",
    "\n",
    "Next we'll process the datetime index"
   ]
  },
  {
   "cell_type": "code",
   "execution_count": 12,
   "metadata": {},
   "outputs": [],
   "source": [
    "#exports\n",
    "def set_dt_idx(df:pd.DataFrame, idx_name='local_datetime'):\n",
    "    \"\"\"\n",
    "    Converts the start datetime to UK local time, then sets it as the index and removes the original datetime columns\n",
    "    \"\"\"\n",
    "\n",
    "    idx_dt = pd.DatetimeIndex(pd.to_datetime(df['start'], utc=True)).tz_convert('Europe/London')\n",
    "    idx_dt.name = idx_name\n",
    "\n",
    "    df.index = idx_dt\n",
    "    df = df.drop(columns=['start', 'end'])\n",
    "\n",
    "    return df\n",
    "\n",
    "def create_df_dt_rng(start_date, end_date, freq='30T', tz='Europe/London', dt_str_template='%Y-%m-%d'):\n",
    "    \"\"\"\n",
    "    Creates a dataframe mapping between local datetimes and electricity market dates/settlement periods\n",
    "    \"\"\"\n",
    "    \n",
    "    # Creating localised datetime index\n",
    "    s_dt_rng = pd.date_range(start_date, end_date, freq=freq, tz=tz)\n",
    "    s_dt_SP_count = pd.Series(0, index=s_dt_rng).resample('D').count()\n",
    "\n",
    "    # Creating SP column\n",
    "    SPs = []\n",
    "    for num_SPs in list(s_dt_SP_count):\n",
    "        SPs += list(range(1, num_SPs+1))\n",
    "\n",
    "    # Creating datetime dataframe\n",
    "    df_dt_rng = pd.DataFrame(index=s_dt_rng)\n",
    "    df_dt_rng.index.name = 'local_datetime'\n",
    "\n",
    "    # Adding query call cols\n",
    "    df_dt_rng['SP'] = SPs\n",
    "    df_dt_rng['date'] = df_dt_rng.index.strftime(dt_str_template)\n",
    "\n",
    "    return df_dt_rng\n",
    "\n",
    "def clean_df_dts(df):\n",
    "    \"\"\"Cleans the datetime index of the passed DataFrame\"\"\"\n",
    "    df = set_dt_idx(df)\n",
    "    df = df[~df.index.duplicated()] \n",
    "\n",
    "    df_dt_rng = create_df_dt_rng(df.index.min(), df.index.max())\n",
    "    df = df.reindex(df_dt_rng.index)\n",
    "\n",
    "    df['SP'] = df_dt_rng['SP'] # Adding settlement period designation\n",
    "    \n",
    "    return df"
   ]
  },
  {
   "cell_type": "code",
   "execution_count": 13,
   "metadata": {},
   "outputs": [
    {
     "data": {
      "text/html": [
       "<div>\n",
       "<style scoped>\n",
       "    .dataframe tbody tr th:only-of-type {\n",
       "        vertical-align: middle;\n",
       "    }\n",
       "\n",
       "    .dataframe tbody tr th {\n",
       "        vertical-align: top;\n",
       "    }\n",
       "\n",
       "    .dataframe thead th {\n",
       "        text-align: right;\n",
       "    }\n",
       "</style>\n",
       "<table border=\"1\" class=\"dataframe\">\n",
       "  <thead>\n",
       "    <tr style=\"text-align: right;\">\n",
       "      <th></th>\n",
       "      <th>totalInTperh</th>\n",
       "      <th>totalInGperkWh</th>\n",
       "      <th>SP</th>\n",
       "    </tr>\n",
       "    <tr>\n",
       "      <th>local_datetime</th>\n",
       "      <th></th>\n",
       "      <th></th>\n",
       "      <th></th>\n",
       "    </tr>\n",
       "  </thead>\n",
       "  <tbody>\n",
       "    <tr>\n",
       "      <th>2020-01-01 00:00:00+00:00</th>\n",
       "      <td>4445.670</td>\n",
       "      <td>162.398904</td>\n",
       "      <td>1</td>\n",
       "    </tr>\n",
       "    <tr>\n",
       "      <th>2020-01-01 00:30:00+00:00</th>\n",
       "      <td>4668.450</td>\n",
       "      <td>167.502063</td>\n",
       "      <td>2</td>\n",
       "    </tr>\n",
       "    <tr>\n",
       "      <th>2020-01-01 01:00:00+00:00</th>\n",
       "      <td>4562.072</td>\n",
       "      <td>166.268387</td>\n",
       "      <td>3</td>\n",
       "    </tr>\n",
       "    <tr>\n",
       "      <th>2020-01-01 01:30:00+00:00</th>\n",
       "      <td>4342.128</td>\n",
       "      <td>163.385260</td>\n",
       "      <td>4</td>\n",
       "    </tr>\n",
       "    <tr>\n",
       "      <th>2020-01-01 02:00:00+00:00</th>\n",
       "      <td>4123.677</td>\n",
       "      <td>159.122875</td>\n",
       "      <td>5</td>\n",
       "    </tr>\n",
       "  </tbody>\n",
       "</table>\n",
       "</div>"
      ],
      "text/plain": [
       "                           totalInTperh  totalInGperkWh  SP\n",
       "local_datetime                                             \n",
       "2020-01-01 00:00:00+00:00      4445.670      162.398904   1\n",
       "2020-01-01 00:30:00+00:00      4668.450      167.502063   2\n",
       "2020-01-01 01:00:00+00:00      4562.072      166.268387   3\n",
       "2020-01-01 01:30:00+00:00      4342.128      163.385260   4\n",
       "2020-01-01 02:00:00+00:00      4123.677      159.122875   5"
      ]
     },
     "execution_count": 13,
     "metadata": {},
     "output_type": "execute_result"
    }
   ],
   "source": [
    "df = clean_df_dts(df)\n",
    "\n",
    "df.head()"
   ]
  },
  {
   "cell_type": "markdown",
   "metadata": {},
   "source": [
    "<br>\n",
    "\n",
    "We'll now combine all of the previous steps and add some column renaming where we want to tidy them up a bit"
   ]
  },
  {
   "cell_type": "code",
   "execution_count": 14,
   "metadata": {},
   "outputs": [],
   "source": [
    "#exports\n",
    "def retrieve_stream_df(start_date:str, end_date:str, stream:str, time_group='30m', renaming_dict={}):\n",
    "    \"\"\"\n",
    "    Makes the call to Electric Insights and parses the response into a dataframe which is returned\n",
    "\n",
    "    Parameters:\n",
    "        start_date: Start date for data given as a string in the form '%Y-%m-%d'\n",
    "        end_date: End date for data given as a string in the form '%Y-%m-%d'\n",
    "        stream: One of 'prices_ahead', 'prices_ahead', 'prices', 'temperatures' or 'emissions'\n",
    "        time_group: One of '30m', '1h', '1d' or '7d'. The default is '30m'\n",
    "        renaming_dict: Mapping from old to new column names\n",
    "    \"\"\"\n",
    "\n",
    "    # Calling data and parsing into dataframe\n",
    "    r_json = query_API(start_date, end_date, stream, time_group)\n",
    "    df = pd.DataFrame.from_dict(r_json)\n",
    "\n",
    "    # Handling entrys which are dictionarys\n",
    "    df = clean_nested_dict_cols(df)\n",
    "\n",
    "    # Setting index as localised datetime, reindexing with all intervals and adding SP\n",
    "    df = clean_df_dts(df)\n",
    "\n",
    "    # Renaming value col\n",
    "    if 'value' in df.columns:\n",
    "        df = df.rename(columns={'value':stream})\n",
    "\n",
    "    if 'referenceOnly' in df.columns:\n",
    "        df = df.drop(columns=['referenceOnly'])\n",
    "\n",
    "    df = df.rename(columns=renaming_dict)\n",
    "\n",
    "    return df"
   ]
  },
  {
   "cell_type": "code",
   "execution_count": 15,
   "metadata": {},
   "outputs": [
    {
     "data": {
      "text/html": [
       "<div>\n",
       "<style scoped>\n",
       "    .dataframe tbody tr th:only-of-type {\n",
       "        vertical-align: middle;\n",
       "    }\n",
       "\n",
       "    .dataframe tbody tr th {\n",
       "        vertical-align: top;\n",
       "    }\n",
       "\n",
       "    .dataframe thead th {\n",
       "        text-align: right;\n",
       "    }\n",
       "</style>\n",
       "<table border=\"1\" class=\"dataframe\">\n",
       "  <thead>\n",
       "    <tr style=\"text-align: right;\">\n",
       "      <th></th>\n",
       "      <th>nuclear</th>\n",
       "      <th>biomass</th>\n",
       "      <th>coal</th>\n",
       "      <th>gas</th>\n",
       "      <th>hydro</th>\n",
       "      <th>wind</th>\n",
       "      <th>solar</th>\n",
       "      <th>demand</th>\n",
       "      <th>pumped_storage</th>\n",
       "      <th>wind_onshore</th>\n",
       "      <th>wind_offshore</th>\n",
       "      <th>belgian</th>\n",
       "      <th>dutch</th>\n",
       "      <th>french</th>\n",
       "      <th>ireland</th>\n",
       "      <th>northern_ireland</th>\n",
       "      <th>irish</th>\n",
       "      <th>SP</th>\n",
       "    </tr>\n",
       "    <tr>\n",
       "      <th>local_datetime</th>\n",
       "      <th></th>\n",
       "      <th></th>\n",
       "      <th></th>\n",
       "      <th></th>\n",
       "      <th></th>\n",
       "      <th></th>\n",
       "      <th></th>\n",
       "      <th></th>\n",
       "      <th></th>\n",
       "      <th></th>\n",
       "      <th></th>\n",
       "      <th></th>\n",
       "      <th></th>\n",
       "      <th></th>\n",
       "      <th></th>\n",
       "      <th></th>\n",
       "      <th></th>\n",
       "      <th></th>\n",
       "    </tr>\n",
       "  </thead>\n",
       "  <tbody>\n",
       "    <tr>\n",
       "      <th>2009-01-01 00:00:00+00:00</th>\n",
       "      <td>6.973</td>\n",
       "      <td>0</td>\n",
       "      <td>17.65</td>\n",
       "      <td>11.9</td>\n",
       "      <td>0.246</td>\n",
       "      <td>0.148</td>\n",
       "      <td>0</td>\n",
       "      <td>38.329</td>\n",
       "      <td>-0.404</td>\n",
       "      <td>None</td>\n",
       "      <td>None</td>\n",
       "      <td>0.0</td>\n",
       "      <td>0.0</td>\n",
       "      <td>1.977</td>\n",
       "      <td>0.0</td>\n",
       "      <td>0.0</td>\n",
       "      <td>-0.161</td>\n",
       "      <td>1</td>\n",
       "    </tr>\n",
       "    <tr>\n",
       "      <th>2009-01-01 00:30:00+00:00</th>\n",
       "      <td>6.968</td>\n",
       "      <td>0</td>\n",
       "      <td>17.77</td>\n",
       "      <td>12.031</td>\n",
       "      <td>0.245</td>\n",
       "      <td>0.157</td>\n",
       "      <td>0</td>\n",
       "      <td>38.461</td>\n",
       "      <td>-0.527</td>\n",
       "      <td>None</td>\n",
       "      <td>None</td>\n",
       "      <td>0.0</td>\n",
       "      <td>0.0</td>\n",
       "      <td>1.977</td>\n",
       "      <td>0.0</td>\n",
       "      <td>0.0</td>\n",
       "      <td>-0.160</td>\n",
       "      <td>2</td>\n",
       "    </tr>\n",
       "    <tr>\n",
       "      <th>2009-01-01 01:00:00+00:00</th>\n",
       "      <td>6.97</td>\n",
       "      <td>0</td>\n",
       "      <td>18.07</td>\n",
       "      <td>11.754</td>\n",
       "      <td>0.246</td>\n",
       "      <td>0.147</td>\n",
       "      <td>0</td>\n",
       "      <td>37.986</td>\n",
       "      <td>-1.018</td>\n",
       "      <td>None</td>\n",
       "      <td>None</td>\n",
       "      <td>0.0</td>\n",
       "      <td>0.0</td>\n",
       "      <td>1.977</td>\n",
       "      <td>0.0</td>\n",
       "      <td>0.0</td>\n",
       "      <td>-0.160</td>\n",
       "      <td>3</td>\n",
       "    </tr>\n",
       "    <tr>\n",
       "      <th>2009-01-01 01:30:00+00:00</th>\n",
       "      <td>6.969</td>\n",
       "      <td>0</td>\n",
       "      <td>18.022</td>\n",
       "      <td>11.162</td>\n",
       "      <td>0.246</td>\n",
       "      <td>0.148</td>\n",
       "      <td>0</td>\n",
       "      <td>36.864</td>\n",
       "      <td>-1.269</td>\n",
       "      <td>None</td>\n",
       "      <td>None</td>\n",
       "      <td>0.0</td>\n",
       "      <td>0.0</td>\n",
       "      <td>1.746</td>\n",
       "      <td>0.0</td>\n",
       "      <td>0.0</td>\n",
       "      <td>-0.160</td>\n",
       "      <td>4</td>\n",
       "    </tr>\n",
       "    <tr>\n",
       "      <th>2009-01-01 02:00:00+00:00</th>\n",
       "      <td>6.96</td>\n",
       "      <td>0</td>\n",
       "      <td>17.998</td>\n",
       "      <td>10.812</td>\n",
       "      <td>0.246</td>\n",
       "      <td>0.16</td>\n",
       "      <td>0</td>\n",
       "      <td>36.18</td>\n",
       "      <td>-1.566</td>\n",
       "      <td>None</td>\n",
       "      <td>None</td>\n",
       "      <td>0.0</td>\n",
       "      <td>0.0</td>\n",
       "      <td>1.730</td>\n",
       "      <td>0.0</td>\n",
       "      <td>0.0</td>\n",
       "      <td>-0.160</td>\n",
       "      <td>5</td>\n",
       "    </tr>\n",
       "  </tbody>\n",
       "</table>\n",
       "</div>"
      ],
      "text/plain": [
       "                          nuclear biomass    coal     gas  hydro   wind solar  \\\n",
       "local_datetime                                                                  \n",
       "2009-01-01 00:00:00+00:00   6.973       0   17.65    11.9  0.246  0.148     0   \n",
       "2009-01-01 00:30:00+00:00   6.968       0   17.77  12.031  0.245  0.157     0   \n",
       "2009-01-01 01:00:00+00:00    6.97       0   18.07  11.754  0.246  0.147     0   \n",
       "2009-01-01 01:30:00+00:00   6.969       0  18.022  11.162  0.246  0.148     0   \n",
       "2009-01-01 02:00:00+00:00    6.96       0  17.998  10.812  0.246   0.16     0   \n",
       "\n",
       "                           demand  pumped_storage wind_onshore wind_offshore  \\\n",
       "local_datetime                                                                 \n",
       "2009-01-01 00:00:00+00:00  38.329          -0.404         None          None   \n",
       "2009-01-01 00:30:00+00:00  38.461          -0.527         None          None   \n",
       "2009-01-01 01:00:00+00:00  37.986          -1.018         None          None   \n",
       "2009-01-01 01:30:00+00:00  36.864          -1.269         None          None   \n",
       "2009-01-01 02:00:00+00:00   36.18          -1.566         None          None   \n",
       "\n",
       "                           belgian  dutch  french  ireland  northern_ireland  \\\n",
       "local_datetime                                                                 \n",
       "2009-01-01 00:00:00+00:00      0.0    0.0   1.977      0.0               0.0   \n",
       "2009-01-01 00:30:00+00:00      0.0    0.0   1.977      0.0               0.0   \n",
       "2009-01-01 01:00:00+00:00      0.0    0.0   1.977      0.0               0.0   \n",
       "2009-01-01 01:30:00+00:00      0.0    0.0   1.746      0.0               0.0   \n",
       "2009-01-01 02:00:00+00:00      0.0    0.0   1.730      0.0               0.0   \n",
       "\n",
       "                           irish  SP  \n",
       "local_datetime                        \n",
       "2009-01-01 00:00:00+00:00 -0.161   1  \n",
       "2009-01-01 00:30:00+00:00 -0.160   2  \n",
       "2009-01-01 01:00:00+00:00 -0.160   3  \n",
       "2009-01-01 01:30:00+00:00 -0.160   4  \n",
       "2009-01-01 02:00:00+00:00 -0.160   5  "
      ]
     },
     "execution_count": 15,
     "metadata": {},
     "output_type": "execute_result"
    }
   ],
   "source": [
    "start_date = '2009-01-01'\n",
    "end_date = '2009-01-02'\n",
    "stream = 'generation-mix'\n",
    "\n",
    "renaming_dict = {\n",
    "    'pumpedStorage' : 'pumped_storage',\n",
    "    'northernIreland' : 'northern_ireland',\n",
    "    'windOnshore': 'wind_onshore',\n",
    "    'windOffshore': 'wind_offshore'\n",
    "}\n",
    "\n",
    "df = retrieve_stream_df(start_date, end_date, stream, renaming_dict=renaming_dict)\n",
    "\n",
    "df.head()"
   ]
  },
  {
   "cell_type": "markdown",
   "metadata": {},
   "source": [
    "<br>\n",
    "\n",
    "#### Multiple Streams\n",
    "\n",
    "We'll now create further functionality for retrieving all of the streams and combining them, before doing so we'll create a helper function for checking the streams are allowed"
   ]
  },
  {
   "cell_type": "code",
   "execution_count": 16,
   "metadata": {},
   "outputs": [],
   "source": [
    "#exports\n",
    "def check_streams(streams='*'):\n",
    "    \"\"\"\n",
    "    Checks that the streams given are a list containing only possible streams, or is all streams - '*'.\n",
    "    \"\"\"\n",
    "    \n",
    "    possible_streams = ['prices_ahead', 'prices', 'temperatures', 'emissions', 'generation-mix']\n",
    "\n",
    "    if isinstance(streams, list):\n",
    "        unrecognised_streams = list(set(streams) - set(possible_streams))\n",
    "\n",
    "        if len(unrecognised_streams) == 0:\n",
    "            return streams \n",
    "        else:\n",
    "            unrecognised_streams_to_print = ''.join([\"'\"+stream+\"', \" for stream in unrecognised_streams])[:-2]\n",
    "            raise ValueError(f\"Streams {unrecognised_streams_to_print} could not be recognised, must be one of: {', '.join(possible_streams)}\")\n",
    "\n",
    "    elif streams=='*':\n",
    "        return possible_streams \n",
    "\n",
    "    else:\n",
    "        raise ValueError(f\"Streams could not be recognised, must be one of: {', '.join(possible_streams)}\")"
   ]
  },
  {
   "cell_type": "code",
   "execution_count": 17,
   "metadata": {},
   "outputs": [
    {
     "data": {
      "text/plain": [
       "['prices_ahead', 'prices', 'temperatures', 'emissions', 'generation-mix']"
      ]
     },
     "execution_count": 17,
     "metadata": {},
     "output_type": "execute_result"
    }
   ],
   "source": [
    "streams = check_streams()\n",
    "\n",
    "streams"
   ]
  },
  {
   "cell_type": "markdown",
   "metadata": {},
   "source": [
    "<br>\n",
    "\n",
    "By default all streams are returned but if we provide a list it will be checked"
   ]
  },
  {
   "cell_type": "code",
   "execution_count": 18,
   "metadata": {},
   "outputs": [
    {
     "data": {
      "text/plain": [
       "['prices', 'emissions']"
      ]
     },
     "execution_count": 18,
     "metadata": {},
     "output_type": "execute_result"
    }
   ],
   "source": [
    "streams = check_streams(['prices', 'emissions'])\n",
    "\n",
    "streams"
   ]
  },
  {
   "cell_type": "markdown",
   "metadata": {},
   "source": [
    "<br>\n",
    "\n",
    "However, if we try to check a list containing a stream that doesn't exist we should receive an error"
   ]
  },
  {
   "cell_type": "code",
   "execution_count": 19,
   "metadata": {},
   "outputs": [
    {
     "name": "stdout",
     "output_type": "stream",
     "text": [
      "Error!\n",
      "\n",
      "Streams 'not_a_stream' could not be recognised, must be one of: prices_ahead, prices, temperatures, emissions, generation-mix\n"
     ]
    }
   ],
   "source": [
    "try:\n",
    "    _ = check_streams(['not_a_stream'])\n",
    "    print('Success!')\n",
    "except Exception as e:\n",
    "    print('Error!\\n\\n'+str(e))"
   ]
  },
  {
   "cell_type": "markdown",
   "metadata": {},
   "source": [
    "<br>\n",
    "\n",
    "Next we'll create a wrapper for downloading and combining all of the streams together"
   ]
  },
  {
   "cell_type": "code",
   "execution_count": 20,
   "metadata": {},
   "outputs": [],
   "source": [
    "#exports\n",
    "def retrieve_streams_df(start_date:str, end_date:str, streams='*', time_group='30m', renaming_dict={}):\n",
    "    \"\"\"\n",
    "    Makes the calls to Electric Insights for the given streams and parses the responses into a dataframe which is returned\n",
    "\n",
    "    Parameters:\n",
    "        start_date: Start date for data given as a string in the form '%Y-%m-%d'\n",
    "        end_date: End date for data given as a string in the form '%Y-%m-%d'\n",
    "        streams: Contains 'prices_ahead', 'prices_ahead', 'prices', 'temperatures' or 'emissions', or is given as all, '*'\n",
    "        time_group: One of '30m', '1h', '1d' or '7d'. The default is '30m'\n",
    "    \"\"\"\n",
    "\n",
    "    df = pd.DataFrame()\n",
    "    streams = check_streams(streams)\n",
    "\n",
    "    for stream in streams:\n",
    "        df_stream = retrieve_stream_df(start_date, end_date, stream, renaming_dict=renaming_dict)           \n",
    "        df[df_stream.columns] = df_stream\n",
    "\n",
    "    return df"
   ]
  },
  {
   "cell_type": "code",
   "execution_count": 21,
   "metadata": {},
   "outputs": [
    {
     "data": {
      "text/html": [
       "<div>\n",
       "<style scoped>\n",
       "    .dataframe tbody tr th:only-of-type {\n",
       "        vertical-align: middle;\n",
       "    }\n",
       "\n",
       "    .dataframe tbody tr th {\n",
       "        vertical-align: top;\n",
       "    }\n",
       "\n",
       "    .dataframe thead th {\n",
       "        text-align: right;\n",
       "    }\n",
       "</style>\n",
       "<table border=\"1\" class=\"dataframe\">\n",
       "  <thead>\n",
       "    <tr style=\"text-align: right;\">\n",
       "      <th></th>\n",
       "      <th>day_ahead_price</th>\n",
       "      <th>SP</th>\n",
       "      <th>imbalance_price</th>\n",
       "      <th>valueSum</th>\n",
       "      <th>temperature</th>\n",
       "      <th>TCO2_per_h</th>\n",
       "      <th>gCO2_per_kWh</th>\n",
       "      <th>nuclear</th>\n",
       "      <th>biomass</th>\n",
       "      <th>coal</th>\n",
       "      <th>...</th>\n",
       "      <th>demand</th>\n",
       "      <th>pumped_storage</th>\n",
       "      <th>wind_onshore</th>\n",
       "      <th>wind_offshore</th>\n",
       "      <th>belgian</th>\n",
       "      <th>dutch</th>\n",
       "      <th>french</th>\n",
       "      <th>ireland</th>\n",
       "      <th>northern_ireland</th>\n",
       "      <th>irish</th>\n",
       "    </tr>\n",
       "    <tr>\n",
       "      <th>local_datetime</th>\n",
       "      <th></th>\n",
       "      <th></th>\n",
       "      <th></th>\n",
       "      <th></th>\n",
       "      <th></th>\n",
       "      <th></th>\n",
       "      <th></th>\n",
       "      <th></th>\n",
       "      <th></th>\n",
       "      <th></th>\n",
       "      <th></th>\n",
       "      <th></th>\n",
       "      <th></th>\n",
       "      <th></th>\n",
       "      <th></th>\n",
       "      <th></th>\n",
       "      <th></th>\n",
       "      <th></th>\n",
       "      <th></th>\n",
       "      <th></th>\n",
       "      <th></th>\n",
       "    </tr>\n",
       "  </thead>\n",
       "  <tbody>\n",
       "    <tr>\n",
       "      <th>2009-01-01 00:00:00+00:00</th>\n",
       "      <td>58.05</td>\n",
       "      <td>1</td>\n",
       "      <td>74.74</td>\n",
       "      <td>74.74</td>\n",
       "      <td>-0.6</td>\n",
       "      <td>21278</td>\n",
       "      <td>555</td>\n",
       "      <td>6.973</td>\n",
       "      <td>0</td>\n",
       "      <td>17.65</td>\n",
       "      <td>...</td>\n",
       "      <td>38.329</td>\n",
       "      <td>-0.404</td>\n",
       "      <td>None</td>\n",
       "      <td>None</td>\n",
       "      <td>0.0</td>\n",
       "      <td>0.0</td>\n",
       "      <td>1.977</td>\n",
       "      <td>0.0</td>\n",
       "      <td>0.0</td>\n",
       "      <td>-0.161</td>\n",
       "    </tr>\n",
       "    <tr>\n",
       "      <th>2009-01-01 00:30:00+00:00</th>\n",
       "      <td>56.33</td>\n",
       "      <td>2</td>\n",
       "      <td>74.89</td>\n",
       "      <td>74.89</td>\n",
       "      <td>-0.6</td>\n",
       "      <td>21442</td>\n",
       "      <td>558</td>\n",
       "      <td>6.968</td>\n",
       "      <td>0</td>\n",
       "      <td>17.77</td>\n",
       "      <td>...</td>\n",
       "      <td>38.461</td>\n",
       "      <td>-0.527</td>\n",
       "      <td>None</td>\n",
       "      <td>None</td>\n",
       "      <td>0.0</td>\n",
       "      <td>0.0</td>\n",
       "      <td>1.977</td>\n",
       "      <td>0.0</td>\n",
       "      <td>0.0</td>\n",
       "      <td>-0.160</td>\n",
       "    </tr>\n",
       "    <tr>\n",
       "      <th>2009-01-01 01:00:00+00:00</th>\n",
       "      <td>52.98</td>\n",
       "      <td>3</td>\n",
       "      <td>76.41</td>\n",
       "      <td>76.41</td>\n",
       "      <td>-0.6</td>\n",
       "      <td>21614</td>\n",
       "      <td>569</td>\n",
       "      <td>6.97</td>\n",
       "      <td>0</td>\n",
       "      <td>18.07</td>\n",
       "      <td>...</td>\n",
       "      <td>37.986</td>\n",
       "      <td>-1.018</td>\n",
       "      <td>None</td>\n",
       "      <td>None</td>\n",
       "      <td>0.0</td>\n",
       "      <td>0.0</td>\n",
       "      <td>1.977</td>\n",
       "      <td>0.0</td>\n",
       "      <td>0.0</td>\n",
       "      <td>-0.160</td>\n",
       "    </tr>\n",
       "    <tr>\n",
       "      <th>2009-01-01 01:30:00+00:00</th>\n",
       "      <td>50.39</td>\n",
       "      <td>4</td>\n",
       "      <td>37.73</td>\n",
       "      <td>37.73</td>\n",
       "      <td>-0.6</td>\n",
       "      <td>21320</td>\n",
       "      <td>578</td>\n",
       "      <td>6.969</td>\n",
       "      <td>0</td>\n",
       "      <td>18.022</td>\n",
       "      <td>...</td>\n",
       "      <td>36.864</td>\n",
       "      <td>-1.269</td>\n",
       "      <td>None</td>\n",
       "      <td>None</td>\n",
       "      <td>0.0</td>\n",
       "      <td>0.0</td>\n",
       "      <td>1.746</td>\n",
       "      <td>0.0</td>\n",
       "      <td>0.0</td>\n",
       "      <td>-0.160</td>\n",
       "    </tr>\n",
       "    <tr>\n",
       "      <th>2009-01-01 02:00:00+00:00</th>\n",
       "      <td>48.70</td>\n",
       "      <td>5</td>\n",
       "      <td>59.00</td>\n",
       "      <td>59.00</td>\n",
       "      <td>-0.6</td>\n",
       "      <td>21160</td>\n",
       "      <td>585</td>\n",
       "      <td>6.96</td>\n",
       "      <td>0</td>\n",
       "      <td>17.998</td>\n",
       "      <td>...</td>\n",
       "      <td>36.18</td>\n",
       "      <td>-1.566</td>\n",
       "      <td>None</td>\n",
       "      <td>None</td>\n",
       "      <td>0.0</td>\n",
       "      <td>0.0</td>\n",
       "      <td>1.730</td>\n",
       "      <td>0.0</td>\n",
       "      <td>0.0</td>\n",
       "      <td>-0.160</td>\n",
       "    </tr>\n",
       "  </tbody>\n",
       "</table>\n",
       "<p>5 rows × 24 columns</p>\n",
       "</div>"
      ],
      "text/plain": [
       "                           day_ahead_price  SP  imbalance_price  valueSum  \\\n",
       "local_datetime                                                              \n",
       "2009-01-01 00:00:00+00:00            58.05   1            74.74     74.74   \n",
       "2009-01-01 00:30:00+00:00            56.33   2            74.89     74.89   \n",
       "2009-01-01 01:00:00+00:00            52.98   3            76.41     76.41   \n",
       "2009-01-01 01:30:00+00:00            50.39   4            37.73     37.73   \n",
       "2009-01-01 02:00:00+00:00            48.70   5            59.00     59.00   \n",
       "\n",
       "                           temperature  TCO2_per_h  gCO2_per_kWh nuclear  \\\n",
       "local_datetime                                                             \n",
       "2009-01-01 00:00:00+00:00         -0.6       21278           555   6.973   \n",
       "2009-01-01 00:30:00+00:00         -0.6       21442           558   6.968   \n",
       "2009-01-01 01:00:00+00:00         -0.6       21614           569    6.97   \n",
       "2009-01-01 01:30:00+00:00         -0.6       21320           578   6.969   \n",
       "2009-01-01 02:00:00+00:00         -0.6       21160           585    6.96   \n",
       "\n",
       "                          biomass    coal  ...  demand pumped_storage  \\\n",
       "local_datetime                             ...                          \n",
       "2009-01-01 00:00:00+00:00       0   17.65  ...  38.329         -0.404   \n",
       "2009-01-01 00:30:00+00:00       0   17.77  ...  38.461         -0.527   \n",
       "2009-01-01 01:00:00+00:00       0   18.07  ...  37.986         -1.018   \n",
       "2009-01-01 01:30:00+00:00       0  18.022  ...  36.864         -1.269   \n",
       "2009-01-01 02:00:00+00:00       0  17.998  ...   36.18         -1.566   \n",
       "\n",
       "                          wind_onshore wind_offshore belgian  dutch french  \\\n",
       "local_datetime                                                               \n",
       "2009-01-01 00:00:00+00:00         None          None     0.0    0.0  1.977   \n",
       "2009-01-01 00:30:00+00:00         None          None     0.0    0.0  1.977   \n",
       "2009-01-01 01:00:00+00:00         None          None     0.0    0.0  1.977   \n",
       "2009-01-01 01:30:00+00:00         None          None     0.0    0.0  1.746   \n",
       "2009-01-01 02:00:00+00:00         None          None     0.0    0.0  1.730   \n",
       "\n",
       "                          ireland  northern_ireland  irish  \n",
       "local_datetime                                              \n",
       "2009-01-01 00:00:00+00:00     0.0               0.0 -0.161  \n",
       "2009-01-01 00:30:00+00:00     0.0               0.0 -0.160  \n",
       "2009-01-01 01:00:00+00:00     0.0               0.0 -0.160  \n",
       "2009-01-01 01:30:00+00:00     0.0               0.0 -0.160  \n",
       "2009-01-01 02:00:00+00:00     0.0               0.0 -0.160  \n",
       "\n",
       "[5 rows x 24 columns]"
      ]
     },
     "execution_count": 21,
     "metadata": {},
     "output_type": "execute_result"
    }
   ],
   "source": [
    "streams = '*'\n",
    "renaming_dict = {\n",
    "    'pumpedStorage' : 'pumped_storage',\n",
    "    'northernIreland' : 'northern_ireland',\n",
    "    'windOnshore': 'wind_onshore',\n",
    "    'windOffshore': 'wind_offshore',\n",
    "    'prices_ahead' : 'day_ahead_price',\n",
    "    'prices' : 'imbalance_price',\n",
    "    'temperatures' : 'temperature',\n",
    "    'totalInGperkWh' : 'gCO2_per_kWh',\n",
    "    'totalInTperh' : 'TCO2_per_h'\n",
    "}\n",
    "\n",
    "df = retrieve_streams_df(start_date, end_date, streams, renaming_dict=renaming_dict)\n",
    "\n",
    "df.head()"
   ]
  },
  {
   "cell_type": "markdown",
   "metadata": {},
   "source": [
    "<br>\n",
    "\n",
    "Now we're ready to retrieve all of the streams in one, which we'll do for all years that data is available, then we'll save the resulting DataFrame."
   ]
  },
  {
   "cell_type": "code",
   "execution_count": 22,
   "metadata": {},
   "outputs": [],
   "source": [
    "#exports\n",
    "def get_EI_data(\n",
    "    start_date,\n",
    "    end_date,\n",
    "    streams='*',\n",
    "    batch_freq='3M',\n",
    "    renaming_dict={\n",
    "        'pumpedStorage' : 'pumped_storage',\n",
    "        'northernIreland' : 'northern_ireland',\n",
    "        'windOnshore': 'wind_onshore',\n",
    "        'windOffshore': 'wind_offshore',\n",
    "        'prices_ahead' : 'day_ahead_price',\n",
    "        'prices' : 'imbalance_price',\n",
    "        'temperatures' : 'temperature',\n",
    "        'totalInGperkWh' : 'gCO2_per_kWh',\n",
    "        'totalInTperh' : 'TCO2_per_h'\n",
    "    }\n",
    "):\n",
    "    # Preparing batch dates\n",
    "    *batch_start_dates, post_batch_start_date = pd.date_range(start_date, end_date, freq=f'{batch_freq}S').strftime('%Y-%m-%d')\n",
    "    pre_batch_end_date, *batch_end_dates = (pd.date_range(start_date, end_date, freq=batch_freq)+pd.Timedelta(days=1)).strftime('%Y-%m-%d')\n",
    "\n",
    "    batch_date_pairs = list(zip(batch_start_dates, batch_end_dates))\n",
    "\n",
    "    if start_date != pre_batch_end_date:\n",
    "        batch_date_pairs = [(start_date, pre_batch_end_date)] + batch_date_pairs\n",
    "\n",
    "    if end_date != post_batch_start_date:\n",
    "        end_date = (pd.to_datetime(end_date) + pd.Timedelta(days=1)).strftime('%Y-%m-%d')\n",
    "        batch_date_pairs = batch_date_pairs + [(post_batch_start_date, end_date)]\n",
    "\n",
    "    # Retrieving data\n",
    "    df = pd.DataFrame()\n",
    "\n",
    "    for batch_start_date, batch_end_date in tqdm(batch_date_pairs):\n",
    "        df_batch = retrieve_streams_df(batch_start_date, batch_end_date, streams, renaming_dict=renaming_dict)\n",
    "        df = df.append(df_batch)  \n",
    "        \n",
    "    return df"
   ]
  },
  {
   "cell_type": "code",
   "execution_count": 23,
   "metadata": {},
   "outputs": [
    {
     "name": "stderr",
     "output_type": "stream",
     "text": [
      "100%|████████████████████████████████████████████████████████████████████████████████████| 2/2 [00:08<00:00,  4.26s/it]\n"
     ]
    },
    {
     "data": {
      "text/html": [
       "<div>\n",
       "<style scoped>\n",
       "    .dataframe tbody tr th:only-of-type {\n",
       "        vertical-align: middle;\n",
       "    }\n",
       "\n",
       "    .dataframe tbody tr th {\n",
       "        vertical-align: top;\n",
       "    }\n",
       "\n",
       "    .dataframe thead th {\n",
       "        text-align: right;\n",
       "    }\n",
       "</style>\n",
       "<table border=\"1\" class=\"dataframe\">\n",
       "  <thead>\n",
       "    <tr style=\"text-align: right;\">\n",
       "      <th></th>\n",
       "      <th>day_ahead_price</th>\n",
       "      <th>SP</th>\n",
       "      <th>imbalance_price</th>\n",
       "      <th>valueSum</th>\n",
       "      <th>temperature</th>\n",
       "      <th>TCO2_per_h</th>\n",
       "      <th>gCO2_per_kWh</th>\n",
       "      <th>nuclear</th>\n",
       "      <th>biomass</th>\n",
       "      <th>coal</th>\n",
       "      <th>...</th>\n",
       "      <th>demand</th>\n",
       "      <th>pumped_storage</th>\n",
       "      <th>wind_onshore</th>\n",
       "      <th>wind_offshore</th>\n",
       "      <th>belgian</th>\n",
       "      <th>dutch</th>\n",
       "      <th>french</th>\n",
       "      <th>ireland</th>\n",
       "      <th>northern_ireland</th>\n",
       "      <th>irish</th>\n",
       "    </tr>\n",
       "    <tr>\n",
       "      <th>local_datetime</th>\n",
       "      <th></th>\n",
       "      <th></th>\n",
       "      <th></th>\n",
       "      <th></th>\n",
       "      <th></th>\n",
       "      <th></th>\n",
       "      <th></th>\n",
       "      <th></th>\n",
       "      <th></th>\n",
       "      <th></th>\n",
       "      <th></th>\n",
       "      <th></th>\n",
       "      <th></th>\n",
       "      <th></th>\n",
       "      <th></th>\n",
       "      <th></th>\n",
       "      <th></th>\n",
       "      <th></th>\n",
       "      <th></th>\n",
       "      <th></th>\n",
       "      <th></th>\n",
       "    </tr>\n",
       "  </thead>\n",
       "  <tbody>\n",
       "    <tr>\n",
       "      <th>2020-12-01 00:00:00+00:00</th>\n",
       "      <td>39.14</td>\n",
       "      <td>1</td>\n",
       "      <td>54.75</td>\n",
       "      <td>54.75</td>\n",
       "      <td>6.1</td>\n",
       "      <td>2901.478</td>\n",
       "      <td>105.685061</td>\n",
       "      <td>6.214</td>\n",
       "      <td>3.122</td>\n",
       "      <td>0</td>\n",
       "      <td>...</td>\n",
       "      <td>27.454003</td>\n",
       "      <td>0.0</td>\n",
       "      <td>2.827155</td>\n",
       "      <td>0.196851</td>\n",
       "      <td>0.804</td>\n",
       "      <td>0.806</td>\n",
       "      <td>1.596</td>\n",
       "      <td>0.0</td>\n",
       "      <td>0.0</td>\n",
       "      <td>-0.776</td>\n",
       "    </tr>\n",
       "    <tr>\n",
       "      <th>2020-12-01 00:30:00+00:00</th>\n",
       "      <td>40.29</td>\n",
       "      <td>2</td>\n",
       "      <td>57.70</td>\n",
       "      <td>57.70</td>\n",
       "      <td>6.1</td>\n",
       "      <td>3142.538</td>\n",
       "      <td>114.112277</td>\n",
       "      <td>6.221</td>\n",
       "      <td>3.132</td>\n",
       "      <td>0</td>\n",
       "      <td>...</td>\n",
       "      <td>27.539</td>\n",
       "      <td>0.0</td>\n",
       "      <td>3.465114</td>\n",
       "      <td>5.653972</td>\n",
       "      <td>0.804</td>\n",
       "      <td>0.804</td>\n",
       "      <td>1.606</td>\n",
       "      <td>0.0</td>\n",
       "      <td>0.0</td>\n",
       "      <td>-0.660</td>\n",
       "    </tr>\n",
       "    <tr>\n",
       "      <th>2020-12-01 01:00:00+00:00</th>\n",
       "      <td>42.90</td>\n",
       "      <td>3</td>\n",
       "      <td>53.00</td>\n",
       "      <td>53.00</td>\n",
       "      <td>6.1</td>\n",
       "      <td>3080.110</td>\n",
       "      <td>113.489650</td>\n",
       "      <td>6.302</td>\n",
       "      <td>3.128</td>\n",
       "      <td>0</td>\n",
       "      <td>...</td>\n",
       "      <td>27.140008</td>\n",
       "      <td>0.0</td>\n",
       "      <td>3.244110</td>\n",
       "      <td>5.600729</td>\n",
       "      <td>0.804</td>\n",
       "      <td>0.806</td>\n",
       "      <td>1.606</td>\n",
       "      <td>0.0</td>\n",
       "      <td>0.0</td>\n",
       "      <td>-0.510</td>\n",
       "    </tr>\n",
       "    <tr>\n",
       "      <th>2020-12-01 01:30:00+00:00</th>\n",
       "      <td>42.61</td>\n",
       "      <td>4</td>\n",
       "      <td>42.61</td>\n",
       "      <td>42.61</td>\n",
       "      <td>6.1</td>\n",
       "      <td>2916.672</td>\n",
       "      <td>109.214109</td>\n",
       "      <td>6.332</td>\n",
       "      <td>3.13</td>\n",
       "      <td>0</td>\n",
       "      <td>...</td>\n",
       "      <td>26.706</td>\n",
       "      <td>0.0</td>\n",
       "      <td>3.141496</td>\n",
       "      <td>5.532231</td>\n",
       "      <td>0.804</td>\n",
       "      <td>0.806</td>\n",
       "      <td>1.606</td>\n",
       "      <td>0.0</td>\n",
       "      <td>0.0</td>\n",
       "      <td>-0.488</td>\n",
       "    </tr>\n",
       "    <tr>\n",
       "      <th>2020-12-01 02:00:00+00:00</th>\n",
       "      <td>41.64</td>\n",
       "      <td>5</td>\n",
       "      <td>41.64</td>\n",
       "      <td>41.64</td>\n",
       "      <td>6.1</td>\n",
       "      <td>2928.562</td>\n",
       "      <td>110.787678</td>\n",
       "      <td>6.334</td>\n",
       "      <td>3.133</td>\n",
       "      <td>0</td>\n",
       "      <td>...</td>\n",
       "      <td>26.434005</td>\n",
       "      <td>0.0</td>\n",
       "      <td>2.981147</td>\n",
       "      <td>5.599126</td>\n",
       "      <td>0.804</td>\n",
       "      <td>0.804</td>\n",
       "      <td>1.606</td>\n",
       "      <td>0.0</td>\n",
       "      <td>0.0</td>\n",
       "      <td>-0.410</td>\n",
       "    </tr>\n",
       "  </tbody>\n",
       "</table>\n",
       "<p>5 rows × 24 columns</p>\n",
       "</div>"
      ],
      "text/plain": [
       "                           day_ahead_price  SP  imbalance_price  valueSum  \\\n",
       "local_datetime                                                              \n",
       "2020-12-01 00:00:00+00:00            39.14   1            54.75     54.75   \n",
       "2020-12-01 00:30:00+00:00            40.29   2            57.70     57.70   \n",
       "2020-12-01 01:00:00+00:00            42.90   3            53.00     53.00   \n",
       "2020-12-01 01:30:00+00:00            42.61   4            42.61     42.61   \n",
       "2020-12-01 02:00:00+00:00            41.64   5            41.64     41.64   \n",
       "\n",
       "                           temperature  TCO2_per_h  gCO2_per_kWh nuclear  \\\n",
       "local_datetime                                                             \n",
       "2020-12-01 00:00:00+00:00          6.1    2901.478    105.685061   6.214   \n",
       "2020-12-01 00:30:00+00:00          6.1    3142.538    114.112277   6.221   \n",
       "2020-12-01 01:00:00+00:00          6.1    3080.110    113.489650   6.302   \n",
       "2020-12-01 01:30:00+00:00          6.1    2916.672    109.214109   6.332   \n",
       "2020-12-01 02:00:00+00:00          6.1    2928.562    110.787678   6.334   \n",
       "\n",
       "                          biomass coal  ...     demand pumped_storage  \\\n",
       "local_datetime                          ...                             \n",
       "2020-12-01 00:00:00+00:00   3.122    0  ...  27.454003            0.0   \n",
       "2020-12-01 00:30:00+00:00   3.132    0  ...     27.539            0.0   \n",
       "2020-12-01 01:00:00+00:00   3.128    0  ...  27.140008            0.0   \n",
       "2020-12-01 01:30:00+00:00    3.13    0  ...     26.706            0.0   \n",
       "2020-12-01 02:00:00+00:00   3.133    0  ...  26.434005            0.0   \n",
       "\n",
       "                          wind_onshore wind_offshore belgian  dutch  french  \\\n",
       "local_datetime                                                                \n",
       "2020-12-01 00:00:00+00:00     2.827155      0.196851   0.804  0.806   1.596   \n",
       "2020-12-01 00:30:00+00:00     3.465114      5.653972   0.804  0.804   1.606   \n",
       "2020-12-01 01:00:00+00:00     3.244110      5.600729   0.804  0.806   1.606   \n",
       "2020-12-01 01:30:00+00:00     3.141496      5.532231   0.804  0.806   1.606   \n",
       "2020-12-01 02:00:00+00:00     2.981147      5.599126   0.804  0.804   1.606   \n",
       "\n",
       "                           ireland  northern_ireland  irish  \n",
       "local_datetime                                               \n",
       "2020-12-01 00:00:00+00:00      0.0               0.0 -0.776  \n",
       "2020-12-01 00:30:00+00:00      0.0               0.0 -0.660  \n",
       "2020-12-01 01:00:00+00:00      0.0               0.0 -0.510  \n",
       "2020-12-01 01:30:00+00:00      0.0               0.0 -0.488  \n",
       "2020-12-01 02:00:00+00:00      0.0               0.0 -0.410  \n",
       "\n",
       "[5 rows x 24 columns]"
      ]
     },
     "execution_count": 23,
     "metadata": {},
     "output_type": "execute_result"
    }
   ],
   "source": [
    "start_date = '2020-12-01'\n",
    "end_date = '2020-12-31'\n",
    "\n",
    "df_EI = get_EI_data(start_date, end_date)\n",
    "\n",
    "df_EI.head()"
   ]
  },
  {
   "cell_type": "markdown",
   "metadata": {},
   "source": [
    "<br>\n",
    "\n",
    "### Data Saving\n",
    "\n",
    "We'll now create some helper functions for saving the data in batches"
   ]
  },
  {
   "cell_type": "code",
   "execution_count": 24,
   "metadata": {},
   "outputs": [],
   "source": [
    "#exports\n",
    "get_EI_files = lambda data_dir: [f for f in os.listdir(data_dir) if 'csv' in f]\n",
    "\n",
    "def bulk_retrieval(start_year=2009, end_year=2020, data_dir='data'):\n",
    "    \"\"\"Retrieves and saves in batches of years\n",
    "    \"\"\"\n",
    "    EI_files = get_EI_files(data_dir)\n",
    "    \n",
    "    for year in range(start_year, end_year+1):\n",
    "        if f'electric_insights_{year}.csv' not in EI_files:\n",
    "            start_date, end_date = f'{year}-01-01 00:00', f'{year}-12-31 23:30'\n",
    "            df_EI = get_EI_data(start_date, end_date)\n",
    "            df_EI.to_csv(f'{data_dir}/electric_insights_{year}.csv')\n",
    "        \n",
    "    return "
   ]
  },
  {
   "cell_type": "code",
   "execution_count": 25,
   "metadata": {
    "tags": []
   },
   "outputs": [],
   "source": [
    "bulk_retrieval(end_year=2020, data_dir=data_dir)"
   ]
  },
  {
   "cell_type": "markdown",
   "metadata": {},
   "source": [
    "<br>\n",
    "\n",
    "We'll write some checks to ensure that there are no gaps within the data"
   ]
  },
  {
   "cell_type": "code",
   "execution_count": 26,
   "metadata": {},
   "outputs": [],
   "source": [
    "#exports\n",
    "def check_for_gappy_data(data_dir):\n",
    "    EI_files = get_EI_files(data_dir)\n",
    "\n",
    "    for EI_file in tqdm(EI_files):\n",
    "        year = int(EI_file.split('_')[-1].split('.')[0])\n",
    "        \n",
    "        df_EI_year = pd.read_csv(f'{data_dir}/{EI_file}')\n",
    "        current_ts = pd.Timestamp.now()\n",
    "\n",
    "        df_EI_year = df_EI_year.set_index('local_datetime')\n",
    "        df_EI_year.index = pd.to_datetime(df_EI_year.index, utc=True).tz_convert('Europe/London')\n",
    "        \n",
    "        if year < current_ts.year:\n",
    "            missing_dates = list(set(pd.date_range(f'{year}-01-01 00:00', f'{year}-12-31 23:30', freq='30T', tz='Europe/London')) - set(df_EI_year.index))\n",
    "        else:\n",
    "            missing_dates = list(set(pd.date_range(f'{year}-01-01 00:00', df_EI_year.index.max().tz_convert(None), freq='30T', tz='Europe/London')) - set(df_EI_year.index))\n",
    "            \n",
    "        if len(missing_dates) > 0:\n",
    "            warn(f'There are {len(missing_dates)} missing dates in the {year} dataframe')"
   ]
  },
  {
   "cell_type": "code",
   "execution_count": 27,
   "metadata": {},
   "outputs": [
    {
     "name": "stderr",
     "output_type": "stream",
     "text": [
      "100%|██████████████████████████████████████████████████████████████████████████████████| 13/13 [00:06<00:00,  2.05it/s]\n"
     ]
    }
   ],
   "source": [
    "check_for_gappy_data(data_dir)"
   ]
  },
  {
   "cell_type": "markdown",
   "metadata": {},
   "source": [
    "<br>\n",
    "\n",
    "We'll now create a helper function that updates the dataset for the year we're currently in"
   ]
  },
  {
   "cell_type": "code",
   "execution_count": 28,
   "metadata": {},
   "outputs": [],
   "source": [
    "#exports\n",
    "def retrieve_latest_data(data_dir):\n",
    "    EI_files = get_EI_files(data_dir)\n",
    "    EI_years_downloaded = [int(f.split('_')[-1].split('.')[0]) for f in EI_files]\n",
    "\n",
    "    current_ts = pd.Timestamp.now(tz='Europe/London')\n",
    "\n",
    "    if current_ts.year not in EI_years_downloaded:\n",
    "        start_date, end_date = f'{current_ts.year}-01-01 00:00', current_ts.strftime('%Y-%m-%d %H:%M')\n",
    "        df_EI = get_EI_data(start_date, end_date)\n",
    "        df_EI.to_csv(f'{data_dir}/electric_insights_{current_ts.year}.csv')\n",
    "\n",
    "    else:\n",
    "        df_EI = pd.read_csv(f'{data_dir}/electric_insights_{current_ts.year}.csv')\n",
    "\n",
    "        df_EI = df_EI.set_index('local_datetime')\n",
    "        df_EI.index = pd.to_datetime(df_EI.index, utc=True).tz_convert('Europe/London')\n",
    "        dt_rng = pd.date_range(df_EI.index.max(), current_ts, freq='30T', tz='Europe/London')\n",
    "\n",
    "        if dt_rng.size > 1:\n",
    "            start_date = dt_rng[0] - pd.Timedelta(days=7)\n",
    "            end_date = dt_rng[-1]\n",
    "\n",
    "            try:\n",
    "                df_EI_latest = get_EI_data(start_date, end_date)\n",
    "                df_EI_trimmed = df_EI.drop(list(set(df_EI_latest.index) - (set(df_EI_latest.index) - set(df_EI.index))))\n",
    "                df_EI_combined = df_EI_trimmed.append(df_EI_latest)\n",
    "                df_EI_combined.to_csv(f'{data_dir}/electric_insights_{current_ts.year}.csv')\n",
    "            except:\n",
    "                warn(f'Could not retrieve any new data between {start_date} and {end_date}')"
   ]
  },
  {
   "cell_type": "code",
   "execution_count": 29,
   "metadata": {},
   "outputs": [
    {
     "name": "stderr",
     "output_type": "stream",
     "text": [
      "100%|████████████████████████████████████████████████████████████████████████████████████| 2/2 [00:02<00:00,  1.26s/it]\n"
     ]
    }
   ],
   "source": [
    "retrieve_latest_data(data_dir)"
   ]
  },
  {
   "cell_type": "markdown",
   "metadata": {},
   "source": [
    "<br>\n",
    "\n",
    "### Packaging\n",
    "\n",
    "The last stage in our data retrieval process is to package it up as a Frictionless Data Package. We'll begin by creating a function that constructs the metadata for each resource within the package."
   ]
  },
  {
   "cell_type": "code",
   "execution_count": 30,
   "metadata": {},
   "outputs": [],
   "source": [
    "#exports\n",
    "def year_to_resource(year=2009):\n",
    "    resource = {\n",
    "      \"name\": f\"electric-insights-{year}\",\n",
    "      \"path\": f\"electric_insights_{year}.csv\",\n",
    "      \"profile\": \"tabular-data-resource\",\n",
    "      \"schema\": {\n",
    "        \"fields\": [\n",
    "          {\n",
    "            \"name\": \"local_datetime\",\n",
    "            \"type\": \"datetime\",\n",
    "            \"format\": \"default\",\n",
    "            \"title\": \"Local Datetime\",\n",
    "            \"description\": \"Datetime index in the `Europe/London` timezone\"\n",
    "          },\n",
    "          {\n",
    "            \"name\": \"day_ahead_price\",\n",
    "            \"type\": \"number\",\n",
    "            \"format\": \"default\",\n",
    "            \"title\": \"Day Ahead Price\",\n",
    "            \"description\": \"Price of electricity on the day-ahead market exchanges\"\n",
    "          },\n",
    "          {\n",
    "            \"name\": \"SP\",\n",
    "            \"type\": \"integer\",\n",
    "            \"format\": \"default\",\n",
    "            \"title\": \"Settlement Period\",\n",
    "            \"description\": \"Half hour settlement period. Normally 1-48 apart from during clock changes when there will be 46 or 50 settlement periods.\"\n",
    "          },\n",
    "          {\n",
    "            \"name\": \"imbalance_price\",\n",
    "            \"type\": \"number\",\n",
    "            \"format\": \"default\",\n",
    "            \"title\": \"Balancing Market Price\",\n",
    "            \"description\": \"Price of electricity on the balancing market\"\n",
    "          },\n",
    "          {\n",
    "            \"name\": \"valueSum\",\n",
    "            \"type\": \"number\",\n",
    "            \"format\": \"default\",\n",
    "            \"title\": \"Value Sum\",\n",
    "            \"description\": \"Unknown\"\n",
    "          },\n",
    "          {\n",
    "            \"name\": \"temperature\",\n",
    "            \"type\": \"number\",\n",
    "            \"format\": \"default\",\n",
    "            \"title\": \"Temperature\",\n",
    "            \"description\": \"The temperature at noon averaged over the whole country\"\n",
    "          },\n",
    "          {\n",
    "            \"name\": \"TCO2_per_h\",\n",
    "            \"type\": \"integer\",\n",
    "            \"format\": \"default\",\n",
    "            \"title\": \"Tonnes CO2 per Hour\",\n",
    "            \"description\": \"Tonnes of CO2 released each hour\"\n",
    "          },\n",
    "          {\n",
    "            \"name\": \"gCO2_per_kWh\",\n",
    "            \"type\": \"integer\",\n",
    "            \"format\": \"default\",\n",
    "            \"description\": \"Carbon intensity on the GB power grid\",\n",
    "            \"title\": \"Grams CO2 per KiloWatt Hour\"\n",
    "          },\n",
    "          {\n",
    "            \"name\": \"nuclear\",\n",
    "            \"type\": \"number\",\n",
    "            \"format\": \"default\",\n",
    "            \"title\": \"Nuclear Output (GW)\",\n",
    "            \"description\": \"Power output from nuclear plants in GB\"\n",
    "          },\n",
    "          {\n",
    "            \"name\": \"biomass\",\n",
    "            \"type\": \"number\",\n",
    "            \"format\": \"default\",\n",
    "            \"title\": \"Biomass Output (GW)\",\n",
    "            \"description\": \"Power output from biomass plants in GB\"\n",
    "          },\n",
    "          {\n",
    "            \"name\": \"coal\",\n",
    "            \"type\": \"number\",\n",
    "            \"format\": \"default\",\n",
    "            \"title\": \"Coal Output (GW)\",\n",
    "            \"description\": \"Power output from coal plants in GB\"\n",
    "          },\n",
    "          {\n",
    "            \"name\": \"gas\",\n",
    "            \"type\": \"number\",\n",
    "            \"format\": \"default\",\n",
    "            \"title\": \"Gas Output (GW)\",\n",
    "            \"description\": \"Power output from gas plants in GB\"\n",
    "          },\n",
    "          {\n",
    "            \"name\": \"hydro\",\n",
    "            \"type\": \"number\",\n",
    "            \"format\": \"default\",\n",
    "            \"title\": \"Hydro Output (GW)\",\n",
    "            \"description\": \"Power output from hydro plants in GB\"\n",
    "          },\n",
    "          {\n",
    "            \"name\": \"wind\",\n",
    "            \"type\": \"number\",\n",
    "            \"format\": \"default\",\n",
    "            \"title\": \"Wind Output (GW)\",\n",
    "            \"description\": \"Power output from wind plants in GB\"\n",
    "          },\n",
    "          {\n",
    "            \"name\": \"solar\",\n",
    "            \"type\": \"number\",\n",
    "            \"format\": \"default\",\n",
    "            \"title\": \"Solar Output (GW)\",\n",
    "            \"description\": \"Power output from solar plants in GB\"\n",
    "          },\n",
    "          {\n",
    "            \"name\": \"demand\",\n",
    "            \"type\": \"number\",\n",
    "            \"format\": \"default\",\n",
    "            \"title\": \"Demand (GW)\",\n",
    "            \"description\": \"Total demand for power in GB\"\n",
    "          },\n",
    "          {\n",
    "            \"name\": \"pumped_storage\",\n",
    "            \"type\": \"number\",\n",
    "            \"format\": \"default\",\n",
    "            \"title\": \"Pumped Storage (GW)\",\n",
    "            \"description\": \"Power output from Pumped Storage plants in GB\"\n",
    "          },\n",
    "          {\n",
    "            \"name\": \"wind_onshore\",\n",
    "            \"type\": \"number\",\n",
    "            \"format\": \"default\",\n",
    "            \"title\": \"Onshore Wind Output (GW)\",\n",
    "            \"description\": \"Power output from onshore wind plants in GB\"\n",
    "          },\n",
    "          {\n",
    "            \"name\": \"wind_offshore\",\n",
    "            \"type\": \"number\",\n",
    "            \"format\": \"default\",\n",
    "            \"title\": \"Offshore Wind Output (GW)\",\n",
    "            \"description\": \"Power output from offshore wind plants in GB\"\n",
    "          },\n",
    "          {\n",
    "            \"name\": \"belgian\",\n",
    "            \"type\": \"number\",\n",
    "            \"format\": \"default\",\n",
    "            \"title\": \"Belgian Interconnector (GW)\",\n",
    "            \"description\": \"Power flow in the Belgian Interconnector\"\n",
    "          },\n",
    "          {\n",
    "            \"name\": \"dutch\",\n",
    "            \"type\": \"number\",\n",
    "            \"format\": \"default\",\n",
    "            \"title\": \"Dutch Interconnector (GW)\",\n",
    "            \"description\": \"Power flow in the Dutch Interconnector\"\n",
    "          },\n",
    "          {\n",
    "            \"name\": \"french\",\n",
    "            \"type\": \"number\",\n",
    "            \"format\": \"default\",\n",
    "            \"title\": \"French Interconnector (GW)\",\n",
    "            \"description\": \"Power flow in the French Interconnector\"\n",
    "          },\n",
    "          {\n",
    "            \"name\": \"ireland\",\n",
    "            \"type\": \"number\",\n",
    "            \"format\": \"default\",\n",
    "            \"title\": \"Ireland Interconnector (GW)\",\n",
    "            \"description\": \"Power flow in the Ireland Interconnector\"\n",
    "          },\n",
    "          {\n",
    "            \"name\": \"northern_ireland\",\n",
    "            \"type\": \"number\",\n",
    "            \"format\": \"default\",\n",
    "            \"title\": \"Northern Ireland Interconnector (GW)\",\n",
    "            \"description\": \"Power flow in the Northern Ireladn Interconnector\"\n",
    "          },\n",
    "          {\n",
    "            \"name\": \"irish\",\n",
    "            \"type\": \"number\",\n",
    "            \"format\": \"default\",\n",
    "            \"title\": \"Irish Interconnector (GW)\",\n",
    "            \"description\": \"Net flow of the two Irish interconnectors\"\n",
    "          }\n",
    "        ]\n",
    "      }\n",
    "    }\n",
    "    \n",
    "    return resource"
   ]
  },
  {
   "cell_type": "code",
   "execution_count": 31,
   "metadata": {},
   "outputs": [
    {
     "data": {
      "application/json": {
       "name": "electric-insights-2009",
       "path": "electric_insights_2009.csv",
       "profile": "tabular-data-resource",
       "schema": {
        "fields": [
         {
          "description": "Datetime index in the `Europe/London` timezone",
          "format": "default",
          "name": "local_datetime",
          "title": "Local Datetime",
          "type": "datetime"
         },
         {
          "description": "Price of electricity on the day-ahead market exchanges",
          "format": "default",
          "name": "day_ahead_price",
          "title": "Day Ahead Price",
          "type": "number"
         },
         {
          "description": "Half hour settlement period. Normally 1-48 apart from during clock changes when there will be 46 or 50 settlement periods.",
          "format": "default",
          "name": "SP",
          "title": "Settlement Period",
          "type": "integer"
         },
         {
          "description": "Price of electricity on the balancing market",
          "format": "default",
          "name": "imbalance_price",
          "title": "Balancing Market Price",
          "type": "number"
         },
         {
          "description": "Unknown",
          "format": "default",
          "name": "valueSum",
          "title": "Value Sum",
          "type": "number"
         },
         {
          "description": "The temperature at noon averaged over the whole country",
          "format": "default",
          "name": "temperature",
          "title": "Temperature",
          "type": "number"
         },
         {
          "description": "Tonnes of CO2 released each hour",
          "format": "default",
          "name": "TCO2_per_h",
          "title": "Tonnes CO2 per Hour",
          "type": "integer"
         },
         {
          "description": "Carbon intensity on the GB power grid",
          "format": "default",
          "name": "gCO2_per_kWh",
          "title": "Grams CO2 per KiloWatt Hour",
          "type": "integer"
         },
         {
          "description": "Power output from nuclear plants in GB",
          "format": "default",
          "name": "nuclear",
          "title": "Nuclear Output (GW)",
          "type": "number"
         },
         {
          "description": "Power output from biomass plants in GB",
          "format": "default",
          "name": "biomass",
          "title": "Biomass Output (GW)",
          "type": "number"
         },
         {
          "description": "Power output from coal plants in GB",
          "format": "default",
          "name": "coal",
          "title": "Coal Output (GW)",
          "type": "number"
         },
         {
          "description": "Power output from gas plants in GB",
          "format": "default",
          "name": "gas",
          "title": "Gas Output (GW)",
          "type": "number"
         },
         {
          "description": "Power output from hydro plants in GB",
          "format": "default",
          "name": "hydro",
          "title": "Hydro Output (GW)",
          "type": "number"
         },
         {
          "description": "Power output from wind plants in GB",
          "format": "default",
          "name": "wind",
          "title": "Wind Output (GW)",
          "type": "number"
         },
         {
          "description": "Power output from solar plants in GB",
          "format": "default",
          "name": "solar",
          "title": "Solar Output (GW)",
          "type": "number"
         },
         {
          "description": "Total demand for power in GB",
          "format": "default",
          "name": "demand",
          "title": "Demand (GW)",
          "type": "number"
         },
         {
          "description": "Power output from Pumped Storage plants in GB",
          "format": "default",
          "name": "pumped_storage",
          "title": "Pumped Storage (GW)",
          "type": "number"
         },
         {
          "description": "Power output from onshore wind plants in GB",
          "format": "default",
          "name": "wind_onshore",
          "title": "Onshore Wind Output (GW)",
          "type": "number"
         },
         {
          "description": "Power output from offshore wind plants in GB",
          "format": "default",
          "name": "wind_offshore",
          "title": "Offshore Wind Output (GW)",
          "type": "number"
         },
         {
          "description": "Power flow in the Belgian Interconnector",
          "format": "default",
          "name": "belgian",
          "title": "Belgian Interconnector (GW)",
          "type": "number"
         },
         {
          "description": "Power flow in the Dutch Interconnector",
          "format": "default",
          "name": "dutch",
          "title": "Dutch Interconnector (GW)",
          "type": "number"
         },
         {
          "description": "Power flow in the French Interconnector",
          "format": "default",
          "name": "french",
          "title": "French Interconnector (GW)",
          "type": "number"
         },
         {
          "description": "Power flow in the Ireland Interconnector",
          "format": "default",
          "name": "ireland",
          "title": "Ireland Interconnector (GW)",
          "type": "number"
         },
         {
          "description": "Power flow in the Northern Ireladn Interconnector",
          "format": "default",
          "name": "northern_ireland",
          "title": "Northern Ireland Interconnector (GW)",
          "type": "number"
         },
         {
          "description": "Net flow of the two Irish interconnectors",
          "format": "default",
          "name": "irish",
          "title": "Irish Interconnector (GW)",
          "type": "number"
         }
        ]
       }
      },
      "text/plain": [
       "<IPython.core.display.JSON object>"
      ]
     },
     "execution_count": 31,
     "metadata": {
      "application/json": {
       "expanded": false,
       "root": "root"
      }
     },
     "output_type": "execute_result"
    }
   ],
   "source": [
    "JSON(year_to_resource())"
   ]
  },
  {
   "cell_type": "markdown",
   "metadata": {},
   "source": [
    "<br>\n",
    "\n",
    "Next we'll construct the full data package"
   ]
  },
  {
   "cell_type": "code",
   "execution_count": 32,
   "metadata": {},
   "outputs": [],
   "source": [
    "#exports\n",
    "def construct_datapackage(start_year=2009, end_year=2021):\n",
    "    datapackage = {\n",
    "      \"profile\": \"tabular-data-package\",\n",
    "      \"resources\": [year_to_resource(year) for year in range(start_year, end_year+1)],\n",
    "      \"keywords\": [\n",
    "        \"electric insights\"\n",
    "      ],\n",
    "      \"contributors\": [\n",
    "        {\n",
    "          \"title\": \"Drax\",\n",
    "          \"role\": \"data-source\"\n",
    "        },\n",
    "        {\n",
    "          \"title\": \"Bourn, Ayrton\",\n",
    "          \"role\": \"maintainer\"\n",
    "        }\n",
    "      ],\n",
    "      \"name\": \"electric-insights\",\n",
    "      \"title\": \"Electric Insights\",\n",
    "      \"homepage\": \"https://github.com/AyrtonB/Electric-Insights\"\n",
    "    }\n",
    "    \n",
    "    return datapackage"
   ]
  },
  {
   "cell_type": "code",
   "execution_count": 33,
   "metadata": {},
   "outputs": [
    {
     "data": {
      "application/json": {
       "contributors": [
        {
         "role": "data-source",
         "title": "Drax"
        },
        {
         "role": "maintainer",
         "title": "Bourn, Ayrton"
        }
       ],
       "homepage": "https://github.com/AyrtonB/Electric-Insights",
       "keywords": [
        "electric insights"
       ],
       "name": "electric-insights",
       "profile": "tabular-data-package",
       "resources": [
        {
         "name": "electric-insights-2009",
         "path": "electric_insights_2009.csv",
         "profile": "tabular-data-resource",
         "schema": {
          "fields": [
           {
            "description": "Datetime index in the `Europe/London` timezone",
            "format": "default",
            "name": "local_datetime",
            "title": "Local Datetime",
            "type": "datetime"
           },
           {
            "description": "Price of electricity on the day-ahead market exchanges",
            "format": "default",
            "name": "day_ahead_price",
            "title": "Day Ahead Price",
            "type": "number"
           },
           {
            "description": "Half hour settlement period. Normally 1-48 apart from during clock changes when there will be 46 or 50 settlement periods.",
            "format": "default",
            "name": "SP",
            "title": "Settlement Period",
            "type": "integer"
           },
           {
            "description": "Price of electricity on the balancing market",
            "format": "default",
            "name": "imbalance_price",
            "title": "Balancing Market Price",
            "type": "number"
           },
           {
            "description": "Unknown",
            "format": "default",
            "name": "valueSum",
            "title": "Value Sum",
            "type": "number"
           },
           {
            "description": "The temperature at noon averaged over the whole country",
            "format": "default",
            "name": "temperature",
            "title": "Temperature",
            "type": "number"
           },
           {
            "description": "Tonnes of CO2 released each hour",
            "format": "default",
            "name": "TCO2_per_h",
            "title": "Tonnes CO2 per Hour",
            "type": "integer"
           },
           {
            "description": "Carbon intensity on the GB power grid",
            "format": "default",
            "name": "gCO2_per_kWh",
            "title": "Grams CO2 per KiloWatt Hour",
            "type": "integer"
           },
           {
            "description": "Power output from nuclear plants in GB",
            "format": "default",
            "name": "nuclear",
            "title": "Nuclear Output (GW)",
            "type": "number"
           },
           {
            "description": "Power output from biomass plants in GB",
            "format": "default",
            "name": "biomass",
            "title": "Biomass Output (GW)",
            "type": "number"
           },
           {
            "description": "Power output from coal plants in GB",
            "format": "default",
            "name": "coal",
            "title": "Coal Output (GW)",
            "type": "number"
           },
           {
            "description": "Power output from gas plants in GB",
            "format": "default",
            "name": "gas",
            "title": "Gas Output (GW)",
            "type": "number"
           },
           {
            "description": "Power output from hydro plants in GB",
            "format": "default",
            "name": "hydro",
            "title": "Hydro Output (GW)",
            "type": "number"
           },
           {
            "description": "Power output from wind plants in GB",
            "format": "default",
            "name": "wind",
            "title": "Wind Output (GW)",
            "type": "number"
           },
           {
            "description": "Power output from solar plants in GB",
            "format": "default",
            "name": "solar",
            "title": "Solar Output (GW)",
            "type": "number"
           },
           {
            "description": "Total demand for power in GB",
            "format": "default",
            "name": "demand",
            "title": "Demand (GW)",
            "type": "number"
           },
           {
            "description": "Power output from Pumped Storage plants in GB",
            "format": "default",
            "name": "pumped_storage",
            "title": "Pumped Storage (GW)",
            "type": "number"
           },
           {
            "description": "Power output from onshore wind plants in GB",
            "format": "default",
            "name": "wind_onshore",
            "title": "Onshore Wind Output (GW)",
            "type": "number"
           },
           {
            "description": "Power output from offshore wind plants in GB",
            "format": "default",
            "name": "wind_offshore",
            "title": "Offshore Wind Output (GW)",
            "type": "number"
           },
           {
            "description": "Power flow in the Belgian Interconnector",
            "format": "default",
            "name": "belgian",
            "title": "Belgian Interconnector (GW)",
            "type": "number"
           },
           {
            "description": "Power flow in the Dutch Interconnector",
            "format": "default",
            "name": "dutch",
            "title": "Dutch Interconnector (GW)",
            "type": "number"
           },
           {
            "description": "Power flow in the French Interconnector",
            "format": "default",
            "name": "french",
            "title": "French Interconnector (GW)",
            "type": "number"
           },
           {
            "description": "Power flow in the Ireland Interconnector",
            "format": "default",
            "name": "ireland",
            "title": "Ireland Interconnector (GW)",
            "type": "number"
           },
           {
            "description": "Power flow in the Northern Ireladn Interconnector",
            "format": "default",
            "name": "northern_ireland",
            "title": "Northern Ireland Interconnector (GW)",
            "type": "number"
           },
           {
            "description": "Net flow of the two Irish interconnectors",
            "format": "default",
            "name": "irish",
            "title": "Irish Interconnector (GW)",
            "type": "number"
           }
          ]
         }
        },
        {
         "name": "electric-insights-2010",
         "path": "electric_insights_2010.csv",
         "profile": "tabular-data-resource",
         "schema": {
          "fields": [
           {
            "description": "Datetime index in the `Europe/London` timezone",
            "format": "default",
            "name": "local_datetime",
            "title": "Local Datetime",
            "type": "datetime"
           },
           {
            "description": "Price of electricity on the day-ahead market exchanges",
            "format": "default",
            "name": "day_ahead_price",
            "title": "Day Ahead Price",
            "type": "number"
           },
           {
            "description": "Half hour settlement period. Normally 1-48 apart from during clock changes when there will be 46 or 50 settlement periods.",
            "format": "default",
            "name": "SP",
            "title": "Settlement Period",
            "type": "integer"
           },
           {
            "description": "Price of electricity on the balancing market",
            "format": "default",
            "name": "imbalance_price",
            "title": "Balancing Market Price",
            "type": "number"
           },
           {
            "description": "Unknown",
            "format": "default",
            "name": "valueSum",
            "title": "Value Sum",
            "type": "number"
           },
           {
            "description": "The temperature at noon averaged over the whole country",
            "format": "default",
            "name": "temperature",
            "title": "Temperature",
            "type": "number"
           },
           {
            "description": "Tonnes of CO2 released each hour",
            "format": "default",
            "name": "TCO2_per_h",
            "title": "Tonnes CO2 per Hour",
            "type": "integer"
           },
           {
            "description": "Carbon intensity on the GB power grid",
            "format": "default",
            "name": "gCO2_per_kWh",
            "title": "Grams CO2 per KiloWatt Hour",
            "type": "integer"
           },
           {
            "description": "Power output from nuclear plants in GB",
            "format": "default",
            "name": "nuclear",
            "title": "Nuclear Output (GW)",
            "type": "number"
           },
           {
            "description": "Power output from biomass plants in GB",
            "format": "default",
            "name": "biomass",
            "title": "Biomass Output (GW)",
            "type": "number"
           },
           {
            "description": "Power output from coal plants in GB",
            "format": "default",
            "name": "coal",
            "title": "Coal Output (GW)",
            "type": "number"
           },
           {
            "description": "Power output from gas plants in GB",
            "format": "default",
            "name": "gas",
            "title": "Gas Output (GW)",
            "type": "number"
           },
           {
            "description": "Power output from hydro plants in GB",
            "format": "default",
            "name": "hydro",
            "title": "Hydro Output (GW)",
            "type": "number"
           },
           {
            "description": "Power output from wind plants in GB",
            "format": "default",
            "name": "wind",
            "title": "Wind Output (GW)",
            "type": "number"
           },
           {
            "description": "Power output from solar plants in GB",
            "format": "default",
            "name": "solar",
            "title": "Solar Output (GW)",
            "type": "number"
           },
           {
            "description": "Total demand for power in GB",
            "format": "default",
            "name": "demand",
            "title": "Demand (GW)",
            "type": "number"
           },
           {
            "description": "Power output from Pumped Storage plants in GB",
            "format": "default",
            "name": "pumped_storage",
            "title": "Pumped Storage (GW)",
            "type": "number"
           },
           {
            "description": "Power output from onshore wind plants in GB",
            "format": "default",
            "name": "wind_onshore",
            "title": "Onshore Wind Output (GW)",
            "type": "number"
           },
           {
            "description": "Power output from offshore wind plants in GB",
            "format": "default",
            "name": "wind_offshore",
            "title": "Offshore Wind Output (GW)",
            "type": "number"
           },
           {
            "description": "Power flow in the Belgian Interconnector",
            "format": "default",
            "name": "belgian",
            "title": "Belgian Interconnector (GW)",
            "type": "number"
           },
           {
            "description": "Power flow in the Dutch Interconnector",
            "format": "default",
            "name": "dutch",
            "title": "Dutch Interconnector (GW)",
            "type": "number"
           },
           {
            "description": "Power flow in the French Interconnector",
            "format": "default",
            "name": "french",
            "title": "French Interconnector (GW)",
            "type": "number"
           },
           {
            "description": "Power flow in the Ireland Interconnector",
            "format": "default",
            "name": "ireland",
            "title": "Ireland Interconnector (GW)",
            "type": "number"
           },
           {
            "description": "Power flow in the Northern Ireladn Interconnector",
            "format": "default",
            "name": "northern_ireland",
            "title": "Northern Ireland Interconnector (GW)",
            "type": "number"
           },
           {
            "description": "Net flow of the two Irish interconnectors",
            "format": "default",
            "name": "irish",
            "title": "Irish Interconnector (GW)",
            "type": "number"
           }
          ]
         }
        },
        {
         "name": "electric-insights-2011",
         "path": "electric_insights_2011.csv",
         "profile": "tabular-data-resource",
         "schema": {
          "fields": [
           {
            "description": "Datetime index in the `Europe/London` timezone",
            "format": "default",
            "name": "local_datetime",
            "title": "Local Datetime",
            "type": "datetime"
           },
           {
            "description": "Price of electricity on the day-ahead market exchanges",
            "format": "default",
            "name": "day_ahead_price",
            "title": "Day Ahead Price",
            "type": "number"
           },
           {
            "description": "Half hour settlement period. Normally 1-48 apart from during clock changes when there will be 46 or 50 settlement periods.",
            "format": "default",
            "name": "SP",
            "title": "Settlement Period",
            "type": "integer"
           },
           {
            "description": "Price of electricity on the balancing market",
            "format": "default",
            "name": "imbalance_price",
            "title": "Balancing Market Price",
            "type": "number"
           },
           {
            "description": "Unknown",
            "format": "default",
            "name": "valueSum",
            "title": "Value Sum",
            "type": "number"
           },
           {
            "description": "The temperature at noon averaged over the whole country",
            "format": "default",
            "name": "temperature",
            "title": "Temperature",
            "type": "number"
           },
           {
            "description": "Tonnes of CO2 released each hour",
            "format": "default",
            "name": "TCO2_per_h",
            "title": "Tonnes CO2 per Hour",
            "type": "integer"
           },
           {
            "description": "Carbon intensity on the GB power grid",
            "format": "default",
            "name": "gCO2_per_kWh",
            "title": "Grams CO2 per KiloWatt Hour",
            "type": "integer"
           },
           {
            "description": "Power output from nuclear plants in GB",
            "format": "default",
            "name": "nuclear",
            "title": "Nuclear Output (GW)",
            "type": "number"
           },
           {
            "description": "Power output from biomass plants in GB",
            "format": "default",
            "name": "biomass",
            "title": "Biomass Output (GW)",
            "type": "number"
           },
           {
            "description": "Power output from coal plants in GB",
            "format": "default",
            "name": "coal",
            "title": "Coal Output (GW)",
            "type": "number"
           },
           {
            "description": "Power output from gas plants in GB",
            "format": "default",
            "name": "gas",
            "title": "Gas Output (GW)",
            "type": "number"
           },
           {
            "description": "Power output from hydro plants in GB",
            "format": "default",
            "name": "hydro",
            "title": "Hydro Output (GW)",
            "type": "number"
           },
           {
            "description": "Power output from wind plants in GB",
            "format": "default",
            "name": "wind",
            "title": "Wind Output (GW)",
            "type": "number"
           },
           {
            "description": "Power output from solar plants in GB",
            "format": "default",
            "name": "solar",
            "title": "Solar Output (GW)",
            "type": "number"
           },
           {
            "description": "Total demand for power in GB",
            "format": "default",
            "name": "demand",
            "title": "Demand (GW)",
            "type": "number"
           },
           {
            "description": "Power output from Pumped Storage plants in GB",
            "format": "default",
            "name": "pumped_storage",
            "title": "Pumped Storage (GW)",
            "type": "number"
           },
           {
            "description": "Power output from onshore wind plants in GB",
            "format": "default",
            "name": "wind_onshore",
            "title": "Onshore Wind Output (GW)",
            "type": "number"
           },
           {
            "description": "Power output from offshore wind plants in GB",
            "format": "default",
            "name": "wind_offshore",
            "title": "Offshore Wind Output (GW)",
            "type": "number"
           },
           {
            "description": "Power flow in the Belgian Interconnector",
            "format": "default",
            "name": "belgian",
            "title": "Belgian Interconnector (GW)",
            "type": "number"
           },
           {
            "description": "Power flow in the Dutch Interconnector",
            "format": "default",
            "name": "dutch",
            "title": "Dutch Interconnector (GW)",
            "type": "number"
           },
           {
            "description": "Power flow in the French Interconnector",
            "format": "default",
            "name": "french",
            "title": "French Interconnector (GW)",
            "type": "number"
           },
           {
            "description": "Power flow in the Ireland Interconnector",
            "format": "default",
            "name": "ireland",
            "title": "Ireland Interconnector (GW)",
            "type": "number"
           },
           {
            "description": "Power flow in the Northern Ireladn Interconnector",
            "format": "default",
            "name": "northern_ireland",
            "title": "Northern Ireland Interconnector (GW)",
            "type": "number"
           },
           {
            "description": "Net flow of the two Irish interconnectors",
            "format": "default",
            "name": "irish",
            "title": "Irish Interconnector (GW)",
            "type": "number"
           }
          ]
         }
        },
        {
         "name": "electric-insights-2012",
         "path": "electric_insights_2012.csv",
         "profile": "tabular-data-resource",
         "schema": {
          "fields": [
           {
            "description": "Datetime index in the `Europe/London` timezone",
            "format": "default",
            "name": "local_datetime",
            "title": "Local Datetime",
            "type": "datetime"
           },
           {
            "description": "Price of electricity on the day-ahead market exchanges",
            "format": "default",
            "name": "day_ahead_price",
            "title": "Day Ahead Price",
            "type": "number"
           },
           {
            "description": "Half hour settlement period. Normally 1-48 apart from during clock changes when there will be 46 or 50 settlement periods.",
            "format": "default",
            "name": "SP",
            "title": "Settlement Period",
            "type": "integer"
           },
           {
            "description": "Price of electricity on the balancing market",
            "format": "default",
            "name": "imbalance_price",
            "title": "Balancing Market Price",
            "type": "number"
           },
           {
            "description": "Unknown",
            "format": "default",
            "name": "valueSum",
            "title": "Value Sum",
            "type": "number"
           },
           {
            "description": "The temperature at noon averaged over the whole country",
            "format": "default",
            "name": "temperature",
            "title": "Temperature",
            "type": "number"
           },
           {
            "description": "Tonnes of CO2 released each hour",
            "format": "default",
            "name": "TCO2_per_h",
            "title": "Tonnes CO2 per Hour",
            "type": "integer"
           },
           {
            "description": "Carbon intensity on the GB power grid",
            "format": "default",
            "name": "gCO2_per_kWh",
            "title": "Grams CO2 per KiloWatt Hour",
            "type": "integer"
           },
           {
            "description": "Power output from nuclear plants in GB",
            "format": "default",
            "name": "nuclear",
            "title": "Nuclear Output (GW)",
            "type": "number"
           },
           {
            "description": "Power output from biomass plants in GB",
            "format": "default",
            "name": "biomass",
            "title": "Biomass Output (GW)",
            "type": "number"
           },
           {
            "description": "Power output from coal plants in GB",
            "format": "default",
            "name": "coal",
            "title": "Coal Output (GW)",
            "type": "number"
           },
           {
            "description": "Power output from gas plants in GB",
            "format": "default",
            "name": "gas",
            "title": "Gas Output (GW)",
            "type": "number"
           },
           {
            "description": "Power output from hydro plants in GB",
            "format": "default",
            "name": "hydro",
            "title": "Hydro Output (GW)",
            "type": "number"
           },
           {
            "description": "Power output from wind plants in GB",
            "format": "default",
            "name": "wind",
            "title": "Wind Output (GW)",
            "type": "number"
           },
           {
            "description": "Power output from solar plants in GB",
            "format": "default",
            "name": "solar",
            "title": "Solar Output (GW)",
            "type": "number"
           },
           {
            "description": "Total demand for power in GB",
            "format": "default",
            "name": "demand",
            "title": "Demand (GW)",
            "type": "number"
           },
           {
            "description": "Power output from Pumped Storage plants in GB",
            "format": "default",
            "name": "pumped_storage",
            "title": "Pumped Storage (GW)",
            "type": "number"
           },
           {
            "description": "Power output from onshore wind plants in GB",
            "format": "default",
            "name": "wind_onshore",
            "title": "Onshore Wind Output (GW)",
            "type": "number"
           },
           {
            "description": "Power output from offshore wind plants in GB",
            "format": "default",
            "name": "wind_offshore",
            "title": "Offshore Wind Output (GW)",
            "type": "number"
           },
           {
            "description": "Power flow in the Belgian Interconnector",
            "format": "default",
            "name": "belgian",
            "title": "Belgian Interconnector (GW)",
            "type": "number"
           },
           {
            "description": "Power flow in the Dutch Interconnector",
            "format": "default",
            "name": "dutch",
            "title": "Dutch Interconnector (GW)",
            "type": "number"
           },
           {
            "description": "Power flow in the French Interconnector",
            "format": "default",
            "name": "french",
            "title": "French Interconnector (GW)",
            "type": "number"
           },
           {
            "description": "Power flow in the Ireland Interconnector",
            "format": "default",
            "name": "ireland",
            "title": "Ireland Interconnector (GW)",
            "type": "number"
           },
           {
            "description": "Power flow in the Northern Ireladn Interconnector",
            "format": "default",
            "name": "northern_ireland",
            "title": "Northern Ireland Interconnector (GW)",
            "type": "number"
           },
           {
            "description": "Net flow of the two Irish interconnectors",
            "format": "default",
            "name": "irish",
            "title": "Irish Interconnector (GW)",
            "type": "number"
           }
          ]
         }
        },
        {
         "name": "electric-insights-2013",
         "path": "electric_insights_2013.csv",
         "profile": "tabular-data-resource",
         "schema": {
          "fields": [
           {
            "description": "Datetime index in the `Europe/London` timezone",
            "format": "default",
            "name": "local_datetime",
            "title": "Local Datetime",
            "type": "datetime"
           },
           {
            "description": "Price of electricity on the day-ahead market exchanges",
            "format": "default",
            "name": "day_ahead_price",
            "title": "Day Ahead Price",
            "type": "number"
           },
           {
            "description": "Half hour settlement period. Normally 1-48 apart from during clock changes when there will be 46 or 50 settlement periods.",
            "format": "default",
            "name": "SP",
            "title": "Settlement Period",
            "type": "integer"
           },
           {
            "description": "Price of electricity on the balancing market",
            "format": "default",
            "name": "imbalance_price",
            "title": "Balancing Market Price",
            "type": "number"
           },
           {
            "description": "Unknown",
            "format": "default",
            "name": "valueSum",
            "title": "Value Sum",
            "type": "number"
           },
           {
            "description": "The temperature at noon averaged over the whole country",
            "format": "default",
            "name": "temperature",
            "title": "Temperature",
            "type": "number"
           },
           {
            "description": "Tonnes of CO2 released each hour",
            "format": "default",
            "name": "TCO2_per_h",
            "title": "Tonnes CO2 per Hour",
            "type": "integer"
           },
           {
            "description": "Carbon intensity on the GB power grid",
            "format": "default",
            "name": "gCO2_per_kWh",
            "title": "Grams CO2 per KiloWatt Hour",
            "type": "integer"
           },
           {
            "description": "Power output from nuclear plants in GB",
            "format": "default",
            "name": "nuclear",
            "title": "Nuclear Output (GW)",
            "type": "number"
           },
           {
            "description": "Power output from biomass plants in GB",
            "format": "default",
            "name": "biomass",
            "title": "Biomass Output (GW)",
            "type": "number"
           },
           {
            "description": "Power output from coal plants in GB",
            "format": "default",
            "name": "coal",
            "title": "Coal Output (GW)",
            "type": "number"
           },
           {
            "description": "Power output from gas plants in GB",
            "format": "default",
            "name": "gas",
            "title": "Gas Output (GW)",
            "type": "number"
           },
           {
            "description": "Power output from hydro plants in GB",
            "format": "default",
            "name": "hydro",
            "title": "Hydro Output (GW)",
            "type": "number"
           },
           {
            "description": "Power output from wind plants in GB",
            "format": "default",
            "name": "wind",
            "title": "Wind Output (GW)",
            "type": "number"
           },
           {
            "description": "Power output from solar plants in GB",
            "format": "default",
            "name": "solar",
            "title": "Solar Output (GW)",
            "type": "number"
           },
           {
            "description": "Total demand for power in GB",
            "format": "default",
            "name": "demand",
            "title": "Demand (GW)",
            "type": "number"
           },
           {
            "description": "Power output from Pumped Storage plants in GB",
            "format": "default",
            "name": "pumped_storage",
            "title": "Pumped Storage (GW)",
            "type": "number"
           },
           {
            "description": "Power output from onshore wind plants in GB",
            "format": "default",
            "name": "wind_onshore",
            "title": "Onshore Wind Output (GW)",
            "type": "number"
           },
           {
            "description": "Power output from offshore wind plants in GB",
            "format": "default",
            "name": "wind_offshore",
            "title": "Offshore Wind Output (GW)",
            "type": "number"
           },
           {
            "description": "Power flow in the Belgian Interconnector",
            "format": "default",
            "name": "belgian",
            "title": "Belgian Interconnector (GW)",
            "type": "number"
           },
           {
            "description": "Power flow in the Dutch Interconnector",
            "format": "default",
            "name": "dutch",
            "title": "Dutch Interconnector (GW)",
            "type": "number"
           },
           {
            "description": "Power flow in the French Interconnector",
            "format": "default",
            "name": "french",
            "title": "French Interconnector (GW)",
            "type": "number"
           },
           {
            "description": "Power flow in the Ireland Interconnector",
            "format": "default",
            "name": "ireland",
            "title": "Ireland Interconnector (GW)",
            "type": "number"
           },
           {
            "description": "Power flow in the Northern Ireladn Interconnector",
            "format": "default",
            "name": "northern_ireland",
            "title": "Northern Ireland Interconnector (GW)",
            "type": "number"
           },
           {
            "description": "Net flow of the two Irish interconnectors",
            "format": "default",
            "name": "irish",
            "title": "Irish Interconnector (GW)",
            "type": "number"
           }
          ]
         }
        },
        {
         "name": "electric-insights-2014",
         "path": "electric_insights_2014.csv",
         "profile": "tabular-data-resource",
         "schema": {
          "fields": [
           {
            "description": "Datetime index in the `Europe/London` timezone",
            "format": "default",
            "name": "local_datetime",
            "title": "Local Datetime",
            "type": "datetime"
           },
           {
            "description": "Price of electricity on the day-ahead market exchanges",
            "format": "default",
            "name": "day_ahead_price",
            "title": "Day Ahead Price",
            "type": "number"
           },
           {
            "description": "Half hour settlement period. Normally 1-48 apart from during clock changes when there will be 46 or 50 settlement periods.",
            "format": "default",
            "name": "SP",
            "title": "Settlement Period",
            "type": "integer"
           },
           {
            "description": "Price of electricity on the balancing market",
            "format": "default",
            "name": "imbalance_price",
            "title": "Balancing Market Price",
            "type": "number"
           },
           {
            "description": "Unknown",
            "format": "default",
            "name": "valueSum",
            "title": "Value Sum",
            "type": "number"
           },
           {
            "description": "The temperature at noon averaged over the whole country",
            "format": "default",
            "name": "temperature",
            "title": "Temperature",
            "type": "number"
           },
           {
            "description": "Tonnes of CO2 released each hour",
            "format": "default",
            "name": "TCO2_per_h",
            "title": "Tonnes CO2 per Hour",
            "type": "integer"
           },
           {
            "description": "Carbon intensity on the GB power grid",
            "format": "default",
            "name": "gCO2_per_kWh",
            "title": "Grams CO2 per KiloWatt Hour",
            "type": "integer"
           },
           {
            "description": "Power output from nuclear plants in GB",
            "format": "default",
            "name": "nuclear",
            "title": "Nuclear Output (GW)",
            "type": "number"
           },
           {
            "description": "Power output from biomass plants in GB",
            "format": "default",
            "name": "biomass",
            "title": "Biomass Output (GW)",
            "type": "number"
           },
           {
            "description": "Power output from coal plants in GB",
            "format": "default",
            "name": "coal",
            "title": "Coal Output (GW)",
            "type": "number"
           },
           {
            "description": "Power output from gas plants in GB",
            "format": "default",
            "name": "gas",
            "title": "Gas Output (GW)",
            "type": "number"
           },
           {
            "description": "Power output from hydro plants in GB",
            "format": "default",
            "name": "hydro",
            "title": "Hydro Output (GW)",
            "type": "number"
           },
           {
            "description": "Power output from wind plants in GB",
            "format": "default",
            "name": "wind",
            "title": "Wind Output (GW)",
            "type": "number"
           },
           {
            "description": "Power output from solar plants in GB",
            "format": "default",
            "name": "solar",
            "title": "Solar Output (GW)",
            "type": "number"
           },
           {
            "description": "Total demand for power in GB",
            "format": "default",
            "name": "demand",
            "title": "Demand (GW)",
            "type": "number"
           },
           {
            "description": "Power output from Pumped Storage plants in GB",
            "format": "default",
            "name": "pumped_storage",
            "title": "Pumped Storage (GW)",
            "type": "number"
           },
           {
            "description": "Power output from onshore wind plants in GB",
            "format": "default",
            "name": "wind_onshore",
            "title": "Onshore Wind Output (GW)",
            "type": "number"
           },
           {
            "description": "Power output from offshore wind plants in GB",
            "format": "default",
            "name": "wind_offshore",
            "title": "Offshore Wind Output (GW)",
            "type": "number"
           },
           {
            "description": "Power flow in the Belgian Interconnector",
            "format": "default",
            "name": "belgian",
            "title": "Belgian Interconnector (GW)",
            "type": "number"
           },
           {
            "description": "Power flow in the Dutch Interconnector",
            "format": "default",
            "name": "dutch",
            "title": "Dutch Interconnector (GW)",
            "type": "number"
           },
           {
            "description": "Power flow in the French Interconnector",
            "format": "default",
            "name": "french",
            "title": "French Interconnector (GW)",
            "type": "number"
           },
           {
            "description": "Power flow in the Ireland Interconnector",
            "format": "default",
            "name": "ireland",
            "title": "Ireland Interconnector (GW)",
            "type": "number"
           },
           {
            "description": "Power flow in the Northern Ireladn Interconnector",
            "format": "default",
            "name": "northern_ireland",
            "title": "Northern Ireland Interconnector (GW)",
            "type": "number"
           },
           {
            "description": "Net flow of the two Irish interconnectors",
            "format": "default",
            "name": "irish",
            "title": "Irish Interconnector (GW)",
            "type": "number"
           }
          ]
         }
        },
        {
         "name": "electric-insights-2015",
         "path": "electric_insights_2015.csv",
         "profile": "tabular-data-resource",
         "schema": {
          "fields": [
           {
            "description": "Datetime index in the `Europe/London` timezone",
            "format": "default",
            "name": "local_datetime",
            "title": "Local Datetime",
            "type": "datetime"
           },
           {
            "description": "Price of electricity on the day-ahead market exchanges",
            "format": "default",
            "name": "day_ahead_price",
            "title": "Day Ahead Price",
            "type": "number"
           },
           {
            "description": "Half hour settlement period. Normally 1-48 apart from during clock changes when there will be 46 or 50 settlement periods.",
            "format": "default",
            "name": "SP",
            "title": "Settlement Period",
            "type": "integer"
           },
           {
            "description": "Price of electricity on the balancing market",
            "format": "default",
            "name": "imbalance_price",
            "title": "Balancing Market Price",
            "type": "number"
           },
           {
            "description": "Unknown",
            "format": "default",
            "name": "valueSum",
            "title": "Value Sum",
            "type": "number"
           },
           {
            "description": "The temperature at noon averaged over the whole country",
            "format": "default",
            "name": "temperature",
            "title": "Temperature",
            "type": "number"
           },
           {
            "description": "Tonnes of CO2 released each hour",
            "format": "default",
            "name": "TCO2_per_h",
            "title": "Tonnes CO2 per Hour",
            "type": "integer"
           },
           {
            "description": "Carbon intensity on the GB power grid",
            "format": "default",
            "name": "gCO2_per_kWh",
            "title": "Grams CO2 per KiloWatt Hour",
            "type": "integer"
           },
           {
            "description": "Power output from nuclear plants in GB",
            "format": "default",
            "name": "nuclear",
            "title": "Nuclear Output (GW)",
            "type": "number"
           },
           {
            "description": "Power output from biomass plants in GB",
            "format": "default",
            "name": "biomass",
            "title": "Biomass Output (GW)",
            "type": "number"
           },
           {
            "description": "Power output from coal plants in GB",
            "format": "default",
            "name": "coal",
            "title": "Coal Output (GW)",
            "type": "number"
           },
           {
            "description": "Power output from gas plants in GB",
            "format": "default",
            "name": "gas",
            "title": "Gas Output (GW)",
            "type": "number"
           },
           {
            "description": "Power output from hydro plants in GB",
            "format": "default",
            "name": "hydro",
            "title": "Hydro Output (GW)",
            "type": "number"
           },
           {
            "description": "Power output from wind plants in GB",
            "format": "default",
            "name": "wind",
            "title": "Wind Output (GW)",
            "type": "number"
           },
           {
            "description": "Power output from solar plants in GB",
            "format": "default",
            "name": "solar",
            "title": "Solar Output (GW)",
            "type": "number"
           },
           {
            "description": "Total demand for power in GB",
            "format": "default",
            "name": "demand",
            "title": "Demand (GW)",
            "type": "number"
           },
           {
            "description": "Power output from Pumped Storage plants in GB",
            "format": "default",
            "name": "pumped_storage",
            "title": "Pumped Storage (GW)",
            "type": "number"
           },
           {
            "description": "Power output from onshore wind plants in GB",
            "format": "default",
            "name": "wind_onshore",
            "title": "Onshore Wind Output (GW)",
            "type": "number"
           },
           {
            "description": "Power output from offshore wind plants in GB",
            "format": "default",
            "name": "wind_offshore",
            "title": "Offshore Wind Output (GW)",
            "type": "number"
           },
           {
            "description": "Power flow in the Belgian Interconnector",
            "format": "default",
            "name": "belgian",
            "title": "Belgian Interconnector (GW)",
            "type": "number"
           },
           {
            "description": "Power flow in the Dutch Interconnector",
            "format": "default",
            "name": "dutch",
            "title": "Dutch Interconnector (GW)",
            "type": "number"
           },
           {
            "description": "Power flow in the French Interconnector",
            "format": "default",
            "name": "french",
            "title": "French Interconnector (GW)",
            "type": "number"
           },
           {
            "description": "Power flow in the Ireland Interconnector",
            "format": "default",
            "name": "ireland",
            "title": "Ireland Interconnector (GW)",
            "type": "number"
           },
           {
            "description": "Power flow in the Northern Ireladn Interconnector",
            "format": "default",
            "name": "northern_ireland",
            "title": "Northern Ireland Interconnector (GW)",
            "type": "number"
           },
           {
            "description": "Net flow of the two Irish interconnectors",
            "format": "default",
            "name": "irish",
            "title": "Irish Interconnector (GW)",
            "type": "number"
           }
          ]
         }
        },
        {
         "name": "electric-insights-2016",
         "path": "electric_insights_2016.csv",
         "profile": "tabular-data-resource",
         "schema": {
          "fields": [
           {
            "description": "Datetime index in the `Europe/London` timezone",
            "format": "default",
            "name": "local_datetime",
            "title": "Local Datetime",
            "type": "datetime"
           },
           {
            "description": "Price of electricity on the day-ahead market exchanges",
            "format": "default",
            "name": "day_ahead_price",
            "title": "Day Ahead Price",
            "type": "number"
           },
           {
            "description": "Half hour settlement period. Normally 1-48 apart from during clock changes when there will be 46 or 50 settlement periods.",
            "format": "default",
            "name": "SP",
            "title": "Settlement Period",
            "type": "integer"
           },
           {
            "description": "Price of electricity on the balancing market",
            "format": "default",
            "name": "imbalance_price",
            "title": "Balancing Market Price",
            "type": "number"
           },
           {
            "description": "Unknown",
            "format": "default",
            "name": "valueSum",
            "title": "Value Sum",
            "type": "number"
           },
           {
            "description": "The temperature at noon averaged over the whole country",
            "format": "default",
            "name": "temperature",
            "title": "Temperature",
            "type": "number"
           },
           {
            "description": "Tonnes of CO2 released each hour",
            "format": "default",
            "name": "TCO2_per_h",
            "title": "Tonnes CO2 per Hour",
            "type": "integer"
           },
           {
            "description": "Carbon intensity on the GB power grid",
            "format": "default",
            "name": "gCO2_per_kWh",
            "title": "Grams CO2 per KiloWatt Hour",
            "type": "integer"
           },
           {
            "description": "Power output from nuclear plants in GB",
            "format": "default",
            "name": "nuclear",
            "title": "Nuclear Output (GW)",
            "type": "number"
           },
           {
            "description": "Power output from biomass plants in GB",
            "format": "default",
            "name": "biomass",
            "title": "Biomass Output (GW)",
            "type": "number"
           },
           {
            "description": "Power output from coal plants in GB",
            "format": "default",
            "name": "coal",
            "title": "Coal Output (GW)",
            "type": "number"
           },
           {
            "description": "Power output from gas plants in GB",
            "format": "default",
            "name": "gas",
            "title": "Gas Output (GW)",
            "type": "number"
           },
           {
            "description": "Power output from hydro plants in GB",
            "format": "default",
            "name": "hydro",
            "title": "Hydro Output (GW)",
            "type": "number"
           },
           {
            "description": "Power output from wind plants in GB",
            "format": "default",
            "name": "wind",
            "title": "Wind Output (GW)",
            "type": "number"
           },
           {
            "description": "Power output from solar plants in GB",
            "format": "default",
            "name": "solar",
            "title": "Solar Output (GW)",
            "type": "number"
           },
           {
            "description": "Total demand for power in GB",
            "format": "default",
            "name": "demand",
            "title": "Demand (GW)",
            "type": "number"
           },
           {
            "description": "Power output from Pumped Storage plants in GB",
            "format": "default",
            "name": "pumped_storage",
            "title": "Pumped Storage (GW)",
            "type": "number"
           },
           {
            "description": "Power output from onshore wind plants in GB",
            "format": "default",
            "name": "wind_onshore",
            "title": "Onshore Wind Output (GW)",
            "type": "number"
           },
           {
            "description": "Power output from offshore wind plants in GB",
            "format": "default",
            "name": "wind_offshore",
            "title": "Offshore Wind Output (GW)",
            "type": "number"
           },
           {
            "description": "Power flow in the Belgian Interconnector",
            "format": "default",
            "name": "belgian",
            "title": "Belgian Interconnector (GW)",
            "type": "number"
           },
           {
            "description": "Power flow in the Dutch Interconnector",
            "format": "default",
            "name": "dutch",
            "title": "Dutch Interconnector (GW)",
            "type": "number"
           },
           {
            "description": "Power flow in the French Interconnector",
            "format": "default",
            "name": "french",
            "title": "French Interconnector (GW)",
            "type": "number"
           },
           {
            "description": "Power flow in the Ireland Interconnector",
            "format": "default",
            "name": "ireland",
            "title": "Ireland Interconnector (GW)",
            "type": "number"
           },
           {
            "description": "Power flow in the Northern Ireladn Interconnector",
            "format": "default",
            "name": "northern_ireland",
            "title": "Northern Ireland Interconnector (GW)",
            "type": "number"
           },
           {
            "description": "Net flow of the two Irish interconnectors",
            "format": "default",
            "name": "irish",
            "title": "Irish Interconnector (GW)",
            "type": "number"
           }
          ]
         }
        },
        {
         "name": "electric-insights-2017",
         "path": "electric_insights_2017.csv",
         "profile": "tabular-data-resource",
         "schema": {
          "fields": [
           {
            "description": "Datetime index in the `Europe/London` timezone",
            "format": "default",
            "name": "local_datetime",
            "title": "Local Datetime",
            "type": "datetime"
           },
           {
            "description": "Price of electricity on the day-ahead market exchanges",
            "format": "default",
            "name": "day_ahead_price",
            "title": "Day Ahead Price",
            "type": "number"
           },
           {
            "description": "Half hour settlement period. Normally 1-48 apart from during clock changes when there will be 46 or 50 settlement periods.",
            "format": "default",
            "name": "SP",
            "title": "Settlement Period",
            "type": "integer"
           },
           {
            "description": "Price of electricity on the balancing market",
            "format": "default",
            "name": "imbalance_price",
            "title": "Balancing Market Price",
            "type": "number"
           },
           {
            "description": "Unknown",
            "format": "default",
            "name": "valueSum",
            "title": "Value Sum",
            "type": "number"
           },
           {
            "description": "The temperature at noon averaged over the whole country",
            "format": "default",
            "name": "temperature",
            "title": "Temperature",
            "type": "number"
           },
           {
            "description": "Tonnes of CO2 released each hour",
            "format": "default",
            "name": "TCO2_per_h",
            "title": "Tonnes CO2 per Hour",
            "type": "integer"
           },
           {
            "description": "Carbon intensity on the GB power grid",
            "format": "default",
            "name": "gCO2_per_kWh",
            "title": "Grams CO2 per KiloWatt Hour",
            "type": "integer"
           },
           {
            "description": "Power output from nuclear plants in GB",
            "format": "default",
            "name": "nuclear",
            "title": "Nuclear Output (GW)",
            "type": "number"
           },
           {
            "description": "Power output from biomass plants in GB",
            "format": "default",
            "name": "biomass",
            "title": "Biomass Output (GW)",
            "type": "number"
           },
           {
            "description": "Power output from coal plants in GB",
            "format": "default",
            "name": "coal",
            "title": "Coal Output (GW)",
            "type": "number"
           },
           {
            "description": "Power output from gas plants in GB",
            "format": "default",
            "name": "gas",
            "title": "Gas Output (GW)",
            "type": "number"
           },
           {
            "description": "Power output from hydro plants in GB",
            "format": "default",
            "name": "hydro",
            "title": "Hydro Output (GW)",
            "type": "number"
           },
           {
            "description": "Power output from wind plants in GB",
            "format": "default",
            "name": "wind",
            "title": "Wind Output (GW)",
            "type": "number"
           },
           {
            "description": "Power output from solar plants in GB",
            "format": "default",
            "name": "solar",
            "title": "Solar Output (GW)",
            "type": "number"
           },
           {
            "description": "Total demand for power in GB",
            "format": "default",
            "name": "demand",
            "title": "Demand (GW)",
            "type": "number"
           },
           {
            "description": "Power output from Pumped Storage plants in GB",
            "format": "default",
            "name": "pumped_storage",
            "title": "Pumped Storage (GW)",
            "type": "number"
           },
           {
            "description": "Power output from onshore wind plants in GB",
            "format": "default",
            "name": "wind_onshore",
            "title": "Onshore Wind Output (GW)",
            "type": "number"
           },
           {
            "description": "Power output from offshore wind plants in GB",
            "format": "default",
            "name": "wind_offshore",
            "title": "Offshore Wind Output (GW)",
            "type": "number"
           },
           {
            "description": "Power flow in the Belgian Interconnector",
            "format": "default",
            "name": "belgian",
            "title": "Belgian Interconnector (GW)",
            "type": "number"
           },
           {
            "description": "Power flow in the Dutch Interconnector",
            "format": "default",
            "name": "dutch",
            "title": "Dutch Interconnector (GW)",
            "type": "number"
           },
           {
            "description": "Power flow in the French Interconnector",
            "format": "default",
            "name": "french",
            "title": "French Interconnector (GW)",
            "type": "number"
           },
           {
            "description": "Power flow in the Ireland Interconnector",
            "format": "default",
            "name": "ireland",
            "title": "Ireland Interconnector (GW)",
            "type": "number"
           },
           {
            "description": "Power flow in the Northern Ireladn Interconnector",
            "format": "default",
            "name": "northern_ireland",
            "title": "Northern Ireland Interconnector (GW)",
            "type": "number"
           },
           {
            "description": "Net flow of the two Irish interconnectors",
            "format": "default",
            "name": "irish",
            "title": "Irish Interconnector (GW)",
            "type": "number"
           }
          ]
         }
        },
        {
         "name": "electric-insights-2018",
         "path": "electric_insights_2018.csv",
         "profile": "tabular-data-resource",
         "schema": {
          "fields": [
           {
            "description": "Datetime index in the `Europe/London` timezone",
            "format": "default",
            "name": "local_datetime",
            "title": "Local Datetime",
            "type": "datetime"
           },
           {
            "description": "Price of electricity on the day-ahead market exchanges",
            "format": "default",
            "name": "day_ahead_price",
            "title": "Day Ahead Price",
            "type": "number"
           },
           {
            "description": "Half hour settlement period. Normally 1-48 apart from during clock changes when there will be 46 or 50 settlement periods.",
            "format": "default",
            "name": "SP",
            "title": "Settlement Period",
            "type": "integer"
           },
           {
            "description": "Price of electricity on the balancing market",
            "format": "default",
            "name": "imbalance_price",
            "title": "Balancing Market Price",
            "type": "number"
           },
           {
            "description": "Unknown",
            "format": "default",
            "name": "valueSum",
            "title": "Value Sum",
            "type": "number"
           },
           {
            "description": "The temperature at noon averaged over the whole country",
            "format": "default",
            "name": "temperature",
            "title": "Temperature",
            "type": "number"
           },
           {
            "description": "Tonnes of CO2 released each hour",
            "format": "default",
            "name": "TCO2_per_h",
            "title": "Tonnes CO2 per Hour",
            "type": "integer"
           },
           {
            "description": "Carbon intensity on the GB power grid",
            "format": "default",
            "name": "gCO2_per_kWh",
            "title": "Grams CO2 per KiloWatt Hour",
            "type": "integer"
           },
           {
            "description": "Power output from nuclear plants in GB",
            "format": "default",
            "name": "nuclear",
            "title": "Nuclear Output (GW)",
            "type": "number"
           },
           {
            "description": "Power output from biomass plants in GB",
            "format": "default",
            "name": "biomass",
            "title": "Biomass Output (GW)",
            "type": "number"
           },
           {
            "description": "Power output from coal plants in GB",
            "format": "default",
            "name": "coal",
            "title": "Coal Output (GW)",
            "type": "number"
           },
           {
            "description": "Power output from gas plants in GB",
            "format": "default",
            "name": "gas",
            "title": "Gas Output (GW)",
            "type": "number"
           },
           {
            "description": "Power output from hydro plants in GB",
            "format": "default",
            "name": "hydro",
            "title": "Hydro Output (GW)",
            "type": "number"
           },
           {
            "description": "Power output from wind plants in GB",
            "format": "default",
            "name": "wind",
            "title": "Wind Output (GW)",
            "type": "number"
           },
           {
            "description": "Power output from solar plants in GB",
            "format": "default",
            "name": "solar",
            "title": "Solar Output (GW)",
            "type": "number"
           },
           {
            "description": "Total demand for power in GB",
            "format": "default",
            "name": "demand",
            "title": "Demand (GW)",
            "type": "number"
           },
           {
            "description": "Power output from Pumped Storage plants in GB",
            "format": "default",
            "name": "pumped_storage",
            "title": "Pumped Storage (GW)",
            "type": "number"
           },
           {
            "description": "Power output from onshore wind plants in GB",
            "format": "default",
            "name": "wind_onshore",
            "title": "Onshore Wind Output (GW)",
            "type": "number"
           },
           {
            "description": "Power output from offshore wind plants in GB",
            "format": "default",
            "name": "wind_offshore",
            "title": "Offshore Wind Output (GW)",
            "type": "number"
           },
           {
            "description": "Power flow in the Belgian Interconnector",
            "format": "default",
            "name": "belgian",
            "title": "Belgian Interconnector (GW)",
            "type": "number"
           },
           {
            "description": "Power flow in the Dutch Interconnector",
            "format": "default",
            "name": "dutch",
            "title": "Dutch Interconnector (GW)",
            "type": "number"
           },
           {
            "description": "Power flow in the French Interconnector",
            "format": "default",
            "name": "french",
            "title": "French Interconnector (GW)",
            "type": "number"
           },
           {
            "description": "Power flow in the Ireland Interconnector",
            "format": "default",
            "name": "ireland",
            "title": "Ireland Interconnector (GW)",
            "type": "number"
           },
           {
            "description": "Power flow in the Northern Ireladn Interconnector",
            "format": "default",
            "name": "northern_ireland",
            "title": "Northern Ireland Interconnector (GW)",
            "type": "number"
           },
           {
            "description": "Net flow of the two Irish interconnectors",
            "format": "default",
            "name": "irish",
            "title": "Irish Interconnector (GW)",
            "type": "number"
           }
          ]
         }
        },
        {
         "name": "electric-insights-2019",
         "path": "electric_insights_2019.csv",
         "profile": "tabular-data-resource",
         "schema": {
          "fields": [
           {
            "description": "Datetime index in the `Europe/London` timezone",
            "format": "default",
            "name": "local_datetime",
            "title": "Local Datetime",
            "type": "datetime"
           },
           {
            "description": "Price of electricity on the day-ahead market exchanges",
            "format": "default",
            "name": "day_ahead_price",
            "title": "Day Ahead Price",
            "type": "number"
           },
           {
            "description": "Half hour settlement period. Normally 1-48 apart from during clock changes when there will be 46 or 50 settlement periods.",
            "format": "default",
            "name": "SP",
            "title": "Settlement Period",
            "type": "integer"
           },
           {
            "description": "Price of electricity on the balancing market",
            "format": "default",
            "name": "imbalance_price",
            "title": "Balancing Market Price",
            "type": "number"
           },
           {
            "description": "Unknown",
            "format": "default",
            "name": "valueSum",
            "title": "Value Sum",
            "type": "number"
           },
           {
            "description": "The temperature at noon averaged over the whole country",
            "format": "default",
            "name": "temperature",
            "title": "Temperature",
            "type": "number"
           },
           {
            "description": "Tonnes of CO2 released each hour",
            "format": "default",
            "name": "TCO2_per_h",
            "title": "Tonnes CO2 per Hour",
            "type": "integer"
           },
           {
            "description": "Carbon intensity on the GB power grid",
            "format": "default",
            "name": "gCO2_per_kWh",
            "title": "Grams CO2 per KiloWatt Hour",
            "type": "integer"
           },
           {
            "description": "Power output from nuclear plants in GB",
            "format": "default",
            "name": "nuclear",
            "title": "Nuclear Output (GW)",
            "type": "number"
           },
           {
            "description": "Power output from biomass plants in GB",
            "format": "default",
            "name": "biomass",
            "title": "Biomass Output (GW)",
            "type": "number"
           },
           {
            "description": "Power output from coal plants in GB",
            "format": "default",
            "name": "coal",
            "title": "Coal Output (GW)",
            "type": "number"
           },
           {
            "description": "Power output from gas plants in GB",
            "format": "default",
            "name": "gas",
            "title": "Gas Output (GW)",
            "type": "number"
           },
           {
            "description": "Power output from hydro plants in GB",
            "format": "default",
            "name": "hydro",
            "title": "Hydro Output (GW)",
            "type": "number"
           },
           {
            "description": "Power output from wind plants in GB",
            "format": "default",
            "name": "wind",
            "title": "Wind Output (GW)",
            "type": "number"
           },
           {
            "description": "Power output from solar plants in GB",
            "format": "default",
            "name": "solar",
            "title": "Solar Output (GW)",
            "type": "number"
           },
           {
            "description": "Total demand for power in GB",
            "format": "default",
            "name": "demand",
            "title": "Demand (GW)",
            "type": "number"
           },
           {
            "description": "Power output from Pumped Storage plants in GB",
            "format": "default",
            "name": "pumped_storage",
            "title": "Pumped Storage (GW)",
            "type": "number"
           },
           {
            "description": "Power output from onshore wind plants in GB",
            "format": "default",
            "name": "wind_onshore",
            "title": "Onshore Wind Output (GW)",
            "type": "number"
           },
           {
            "description": "Power output from offshore wind plants in GB",
            "format": "default",
            "name": "wind_offshore",
            "title": "Offshore Wind Output (GW)",
            "type": "number"
           },
           {
            "description": "Power flow in the Belgian Interconnector",
            "format": "default",
            "name": "belgian",
            "title": "Belgian Interconnector (GW)",
            "type": "number"
           },
           {
            "description": "Power flow in the Dutch Interconnector",
            "format": "default",
            "name": "dutch",
            "title": "Dutch Interconnector (GW)",
            "type": "number"
           },
           {
            "description": "Power flow in the French Interconnector",
            "format": "default",
            "name": "french",
            "title": "French Interconnector (GW)",
            "type": "number"
           },
           {
            "description": "Power flow in the Ireland Interconnector",
            "format": "default",
            "name": "ireland",
            "title": "Ireland Interconnector (GW)",
            "type": "number"
           },
           {
            "description": "Power flow in the Northern Ireladn Interconnector",
            "format": "default",
            "name": "northern_ireland",
            "title": "Northern Ireland Interconnector (GW)",
            "type": "number"
           },
           {
            "description": "Net flow of the two Irish interconnectors",
            "format": "default",
            "name": "irish",
            "title": "Irish Interconnector (GW)",
            "type": "number"
           }
          ]
         }
        },
        {
         "name": "electric-insights-2020",
         "path": "electric_insights_2020.csv",
         "profile": "tabular-data-resource",
         "schema": {
          "fields": [
           {
            "description": "Datetime index in the `Europe/London` timezone",
            "format": "default",
            "name": "local_datetime",
            "title": "Local Datetime",
            "type": "datetime"
           },
           {
            "description": "Price of electricity on the day-ahead market exchanges",
            "format": "default",
            "name": "day_ahead_price",
            "title": "Day Ahead Price",
            "type": "number"
           },
           {
            "description": "Half hour settlement period. Normally 1-48 apart from during clock changes when there will be 46 or 50 settlement periods.",
            "format": "default",
            "name": "SP",
            "title": "Settlement Period",
            "type": "integer"
           },
           {
            "description": "Price of electricity on the balancing market",
            "format": "default",
            "name": "imbalance_price",
            "title": "Balancing Market Price",
            "type": "number"
           },
           {
            "description": "Unknown",
            "format": "default",
            "name": "valueSum",
            "title": "Value Sum",
            "type": "number"
           },
           {
            "description": "The temperature at noon averaged over the whole country",
            "format": "default",
            "name": "temperature",
            "title": "Temperature",
            "type": "number"
           },
           {
            "description": "Tonnes of CO2 released each hour",
            "format": "default",
            "name": "TCO2_per_h",
            "title": "Tonnes CO2 per Hour",
            "type": "integer"
           },
           {
            "description": "Carbon intensity on the GB power grid",
            "format": "default",
            "name": "gCO2_per_kWh",
            "title": "Grams CO2 per KiloWatt Hour",
            "type": "integer"
           },
           {
            "description": "Power output from nuclear plants in GB",
            "format": "default",
            "name": "nuclear",
            "title": "Nuclear Output (GW)",
            "type": "number"
           },
           {
            "description": "Power output from biomass plants in GB",
            "format": "default",
            "name": "biomass",
            "title": "Biomass Output (GW)",
            "type": "number"
           },
           {
            "description": "Power output from coal plants in GB",
            "format": "default",
            "name": "coal",
            "title": "Coal Output (GW)",
            "type": "number"
           },
           {
            "description": "Power output from gas plants in GB",
            "format": "default",
            "name": "gas",
            "title": "Gas Output (GW)",
            "type": "number"
           },
           {
            "description": "Power output from hydro plants in GB",
            "format": "default",
            "name": "hydro",
            "title": "Hydro Output (GW)",
            "type": "number"
           },
           {
            "description": "Power output from wind plants in GB",
            "format": "default",
            "name": "wind",
            "title": "Wind Output (GW)",
            "type": "number"
           },
           {
            "description": "Power output from solar plants in GB",
            "format": "default",
            "name": "solar",
            "title": "Solar Output (GW)",
            "type": "number"
           },
           {
            "description": "Total demand for power in GB",
            "format": "default",
            "name": "demand",
            "title": "Demand (GW)",
            "type": "number"
           },
           {
            "description": "Power output from Pumped Storage plants in GB",
            "format": "default",
            "name": "pumped_storage",
            "title": "Pumped Storage (GW)",
            "type": "number"
           },
           {
            "description": "Power output from onshore wind plants in GB",
            "format": "default",
            "name": "wind_onshore",
            "title": "Onshore Wind Output (GW)",
            "type": "number"
           },
           {
            "description": "Power output from offshore wind plants in GB",
            "format": "default",
            "name": "wind_offshore",
            "title": "Offshore Wind Output (GW)",
            "type": "number"
           },
           {
            "description": "Power flow in the Belgian Interconnector",
            "format": "default",
            "name": "belgian",
            "title": "Belgian Interconnector (GW)",
            "type": "number"
           },
           {
            "description": "Power flow in the Dutch Interconnector",
            "format": "default",
            "name": "dutch",
            "title": "Dutch Interconnector (GW)",
            "type": "number"
           },
           {
            "description": "Power flow in the French Interconnector",
            "format": "default",
            "name": "french",
            "title": "French Interconnector (GW)",
            "type": "number"
           },
           {
            "description": "Power flow in the Ireland Interconnector",
            "format": "default",
            "name": "ireland",
            "title": "Ireland Interconnector (GW)",
            "type": "number"
           },
           {
            "description": "Power flow in the Northern Ireladn Interconnector",
            "format": "default",
            "name": "northern_ireland",
            "title": "Northern Ireland Interconnector (GW)",
            "type": "number"
           },
           {
            "description": "Net flow of the two Irish interconnectors",
            "format": "default",
            "name": "irish",
            "title": "Irish Interconnector (GW)",
            "type": "number"
           }
          ]
         }
        },
        {
         "name": "electric-insights-2021",
         "path": "electric_insights_2021.csv",
         "profile": "tabular-data-resource",
         "schema": {
          "fields": [
           {
            "description": "Datetime index in the `Europe/London` timezone",
            "format": "default",
            "name": "local_datetime",
            "title": "Local Datetime",
            "type": "datetime"
           },
           {
            "description": "Price of electricity on the day-ahead market exchanges",
            "format": "default",
            "name": "day_ahead_price",
            "title": "Day Ahead Price",
            "type": "number"
           },
           {
            "description": "Half hour settlement period. Normally 1-48 apart from during clock changes when there will be 46 or 50 settlement periods.",
            "format": "default",
            "name": "SP",
            "title": "Settlement Period",
            "type": "integer"
           },
           {
            "description": "Price of electricity on the balancing market",
            "format": "default",
            "name": "imbalance_price",
            "title": "Balancing Market Price",
            "type": "number"
           },
           {
            "description": "Unknown",
            "format": "default",
            "name": "valueSum",
            "title": "Value Sum",
            "type": "number"
           },
           {
            "description": "The temperature at noon averaged over the whole country",
            "format": "default",
            "name": "temperature",
            "title": "Temperature",
            "type": "number"
           },
           {
            "description": "Tonnes of CO2 released each hour",
            "format": "default",
            "name": "TCO2_per_h",
            "title": "Tonnes CO2 per Hour",
            "type": "integer"
           },
           {
            "description": "Carbon intensity on the GB power grid",
            "format": "default",
            "name": "gCO2_per_kWh",
            "title": "Grams CO2 per KiloWatt Hour",
            "type": "integer"
           },
           {
            "description": "Power output from nuclear plants in GB",
            "format": "default",
            "name": "nuclear",
            "title": "Nuclear Output (GW)",
            "type": "number"
           },
           {
            "description": "Power output from biomass plants in GB",
            "format": "default",
            "name": "biomass",
            "title": "Biomass Output (GW)",
            "type": "number"
           },
           {
            "description": "Power output from coal plants in GB",
            "format": "default",
            "name": "coal",
            "title": "Coal Output (GW)",
            "type": "number"
           },
           {
            "description": "Power output from gas plants in GB",
            "format": "default",
            "name": "gas",
            "title": "Gas Output (GW)",
            "type": "number"
           },
           {
            "description": "Power output from hydro plants in GB",
            "format": "default",
            "name": "hydro",
            "title": "Hydro Output (GW)",
            "type": "number"
           },
           {
            "description": "Power output from wind plants in GB",
            "format": "default",
            "name": "wind",
            "title": "Wind Output (GW)",
            "type": "number"
           },
           {
            "description": "Power output from solar plants in GB",
            "format": "default",
            "name": "solar",
            "title": "Solar Output (GW)",
            "type": "number"
           },
           {
            "description": "Total demand for power in GB",
            "format": "default",
            "name": "demand",
            "title": "Demand (GW)",
            "type": "number"
           },
           {
            "description": "Power output from Pumped Storage plants in GB",
            "format": "default",
            "name": "pumped_storage",
            "title": "Pumped Storage (GW)",
            "type": "number"
           },
           {
            "description": "Power output from onshore wind plants in GB",
            "format": "default",
            "name": "wind_onshore",
            "title": "Onshore Wind Output (GW)",
            "type": "number"
           },
           {
            "description": "Power output from offshore wind plants in GB",
            "format": "default",
            "name": "wind_offshore",
            "title": "Offshore Wind Output (GW)",
            "type": "number"
           },
           {
            "description": "Power flow in the Belgian Interconnector",
            "format": "default",
            "name": "belgian",
            "title": "Belgian Interconnector (GW)",
            "type": "number"
           },
           {
            "description": "Power flow in the Dutch Interconnector",
            "format": "default",
            "name": "dutch",
            "title": "Dutch Interconnector (GW)",
            "type": "number"
           },
           {
            "description": "Power flow in the French Interconnector",
            "format": "default",
            "name": "french",
            "title": "French Interconnector (GW)",
            "type": "number"
           },
           {
            "description": "Power flow in the Ireland Interconnector",
            "format": "default",
            "name": "ireland",
            "title": "Ireland Interconnector (GW)",
            "type": "number"
           },
           {
            "description": "Power flow in the Northern Ireladn Interconnector",
            "format": "default",
            "name": "northern_ireland",
            "title": "Northern Ireland Interconnector (GW)",
            "type": "number"
           },
           {
            "description": "Net flow of the two Irish interconnectors",
            "format": "default",
            "name": "irish",
            "title": "Irish Interconnector (GW)",
            "type": "number"
           }
          ]
         }
        }
       ],
       "title": "Electric Insights"
      },
      "text/plain": [
       "<IPython.core.display.JSON object>"
      ]
     },
     "execution_count": 33,
     "metadata": {
      "application/json": {
       "expanded": false,
       "root": "root"
      }
     },
     "output_type": "execute_result"
    }
   ],
   "source": [
    "datapackage = construct_datapackage()\n",
    "\n",
    "JSON(datapackage)"
   ]
  },
  {
   "cell_type": "markdown",
   "metadata": {},
   "source": [
    "<br>\n",
    "\n",
    "Lastly we'll save it as a `.json`"
   ]
  },
  {
   "cell_type": "code",
   "execution_count": 34,
   "metadata": {},
   "outputs": [],
   "source": [
    "with open(f'{data_dir}/datapackage.json', 'w') as f:\n",
    "    json.dump(datapackage, f)"
   ]
  },
  {
   "cell_type": "markdown",
   "metadata": {},
   "source": [
    "<br>\n",
    "\n",
    "### CLI\n",
    "\n",
    "We want to make this process as replicable as possible, as well as simple to integrate into GitHub actions work flows. To this end we'll create a CLI for the data retrieval, saving, and packaging."
   ]
  },
  {
   "cell_type": "code",
   "execution_count": 35,
   "metadata": {},
   "outputs": [],
   "source": [
    "#exports\n",
    "app = typer.Typer()"
   ]
  },
  {
   "cell_type": "code",
   "execution_count": null,
   "metadata": {},
   "outputs": [],
   "source": []
  },
  {
   "cell_type": "code",
   "execution_count": 36,
   "metadata": {},
   "outputs": [],
   "source": [
    "#exports\n",
    "@app.command()\n",
    "def download(data_dir='data', start_year=2009, end_year=None):\n",
    "    if end_year is None:\n",
    "        end_year = pd.Timestamp.now().year\n",
    "        \n",
    "    bulk_retrieval(start_year=start_year, end_year=end_year-1, data_dir=data_dir)\n",
    "    check_for_gappy_data(data_dir)\n",
    "    retrieve_latest_data(data_dir)\n",
    "\n",
    "    datapackage = construct_datapackage(start_year=start_year, end_year=end_year)\n",
    "\n",
    "    with open(f'{data_dir}/datapackage.json', 'w') as f:\n",
    "        json.dump(datapackage, f)\n",
    "    \n",
    "    return"
   ]
  },
  {
   "cell_type": "code",
   "execution_count": 38,
   "metadata": {},
   "outputs": [
    {
     "name": "stderr",
     "output_type": "stream",
     "text": [
      "100%|██████████████████████████████████████████████████████████████████████████████████| 13/13 [00:05<00:00,  2.42it/s]\n",
      "100%|████████████████████████████████████████████████████████████████████████████████████| 2/2 [00:03<00:00,  1.55s/it]\n"
     ]
    }
   ],
   "source": [
    "download(data_dir)"
   ]
  },
  {
   "cell_type": "code",
   "execution_count": null,
   "metadata": {},
   "outputs": [],
   "source": []
  },
  {
   "cell_type": "code",
   "execution_count": 39,
   "metadata": {},
   "outputs": [],
   "source": [
    "#exports\n",
    "if __name__ == '__main__' and '__file__' in globals():\n",
    "    app()"
   ]
  },
  {
   "cell_type": "code",
   "execution_count": null,
   "metadata": {},
   "outputs": [],
   "source": []
  },
  {
   "cell_type": "code",
   "execution_count": 44,
   "metadata": {},
   "outputs": [
    {
     "name": "stdout",
     "output_type": "stream",
     "text": [
      "Converted 01-retrieval.ipynb.\n"
     ]
    }
   ],
   "source": [
    "#hide\n",
    "from nbdev.export import notebook2script\n",
    "notebook2script('01-retrieval.ipynb')"
   ]
  }
 ],
 "metadata": {
  "kernelspec": {
   "display_name": "ElectricInsights",
   "language": "python",
   "name": "electricinsights"
  },
  "language_info": {
   "codemirror_mode": {
    "name": "ipython",
    "version": 3
   },
   "file_extension": ".py",
   "mimetype": "text/x-python",
   "name": "python",
   "nbconvert_exporter": "python",
   "pygments_lexer": "ipython3",
   "version": "3.9.4"
  }
 },
 "nbformat": 4,
 "nbformat_minor": 4
}
